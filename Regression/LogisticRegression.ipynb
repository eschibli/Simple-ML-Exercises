{
 "cells": [
  {
   "cell_type": "markdown",
   "metadata": {},
   "source": [
    "### Logistic Regression\n",
    "\n",
    "Here we build a logistic regression package"
   ]
  },
  {
   "cell_type": "code",
   "execution_count": 1,
   "metadata": {},
   "outputs": [],
   "source": [
    "import numpy as np\n",
    "import pandas as pd\n",
    "import matplotlib.pyplot as plt\n",
    "from sklearn.preprocessing import StandardScaler\n",
    "import time\n",
    "\n",
    "import sklearn\n",
    "from sklearn.linear_model import LogisticRegression as sk_LogisticRegression\n",
    "from sklearn.preprocessing import StandardScaler as sk_StandardScaler\n",
    "\n",
    "%matplotlib inline"
   ]
  },
  {
   "cell_type": "code",
   "execution_count": 2,
   "metadata": {},
   "outputs": [
    {
     "data": {
      "text/html": [
       "<div>\n",
       "<style scoped>\n",
       "    .dataframe tbody tr th:only-of-type {\n",
       "        vertical-align: middle;\n",
       "    }\n",
       "\n",
       "    .dataframe tbody tr th {\n",
       "        vertical-align: top;\n",
       "    }\n",
       "\n",
       "    .dataframe thead th {\n",
       "        text-align: right;\n",
       "    }\n",
       "</style>\n",
       "<table border=\"1\" class=\"dataframe\">\n",
       "  <thead>\n",
       "    <tr style=\"text-align: right;\">\n",
       "      <th></th>\n",
       "      <th>word_freq_make</th>\n",
       "      <th>word_freq_address</th>\n",
       "      <th>word_freq_all</th>\n",
       "      <th>word_freq_3d</th>\n",
       "      <th>word_freq_our</th>\n",
       "      <th>word_freq_over</th>\n",
       "      <th>word_freq_remove</th>\n",
       "      <th>word_freq_internet</th>\n",
       "      <th>word_freq_order</th>\n",
       "      <th>word_freq_mail</th>\n",
       "      <th>...</th>\n",
       "      <th>char_freq_%3B</th>\n",
       "      <th>char_freq_%28</th>\n",
       "      <th>char_freq_%5B</th>\n",
       "      <th>char_freq_%21</th>\n",
       "      <th>char_freq_%24</th>\n",
       "      <th>char_freq_%23</th>\n",
       "      <th>capital_run_length_average</th>\n",
       "      <th>capital_run_length_longest</th>\n",
       "      <th>capital_run_length_total</th>\n",
       "      <th>class</th>\n",
       "    </tr>\n",
       "  </thead>\n",
       "  <tbody>\n",
       "    <tr>\n",
       "      <td>count</td>\n",
       "      <td>4601.000000</td>\n",
       "      <td>4601.000000</td>\n",
       "      <td>4601.000000</td>\n",
       "      <td>4601.000000</td>\n",
       "      <td>4601.000000</td>\n",
       "      <td>4601.000000</td>\n",
       "      <td>4601.000000</td>\n",
       "      <td>4601.000000</td>\n",
       "      <td>4601.000000</td>\n",
       "      <td>4601.000000</td>\n",
       "      <td>...</td>\n",
       "      <td>4601.000000</td>\n",
       "      <td>4601.000000</td>\n",
       "      <td>4601.000000</td>\n",
       "      <td>4601.000000</td>\n",
       "      <td>4601.000000</td>\n",
       "      <td>4601.000000</td>\n",
       "      <td>4601.000000</td>\n",
       "      <td>4601.000000</td>\n",
       "      <td>4601.000000</td>\n",
       "      <td>4601.000000</td>\n",
       "    </tr>\n",
       "    <tr>\n",
       "      <td>mean</td>\n",
       "      <td>0.104553</td>\n",
       "      <td>0.213015</td>\n",
       "      <td>0.280656</td>\n",
       "      <td>0.065425</td>\n",
       "      <td>0.312223</td>\n",
       "      <td>0.095901</td>\n",
       "      <td>0.114208</td>\n",
       "      <td>0.105295</td>\n",
       "      <td>0.090067</td>\n",
       "      <td>0.239413</td>\n",
       "      <td>...</td>\n",
       "      <td>0.038575</td>\n",
       "      <td>0.139030</td>\n",
       "      <td>0.016976</td>\n",
       "      <td>0.269071</td>\n",
       "      <td>0.075811</td>\n",
       "      <td>0.044238</td>\n",
       "      <td>5.191515</td>\n",
       "      <td>52.172789</td>\n",
       "      <td>283.289285</td>\n",
       "      <td>0.394045</td>\n",
       "    </tr>\n",
       "    <tr>\n",
       "      <td>std</td>\n",
       "      <td>0.305358</td>\n",
       "      <td>1.290575</td>\n",
       "      <td>0.504143</td>\n",
       "      <td>1.395151</td>\n",
       "      <td>0.672513</td>\n",
       "      <td>0.273824</td>\n",
       "      <td>0.391441</td>\n",
       "      <td>0.401071</td>\n",
       "      <td>0.278616</td>\n",
       "      <td>0.644755</td>\n",
       "      <td>...</td>\n",
       "      <td>0.243471</td>\n",
       "      <td>0.270355</td>\n",
       "      <td>0.109394</td>\n",
       "      <td>0.815672</td>\n",
       "      <td>0.245882</td>\n",
       "      <td>0.429342</td>\n",
       "      <td>31.729449</td>\n",
       "      <td>194.891310</td>\n",
       "      <td>606.347851</td>\n",
       "      <td>0.488698</td>\n",
       "    </tr>\n",
       "    <tr>\n",
       "      <td>min</td>\n",
       "      <td>0.000000</td>\n",
       "      <td>0.000000</td>\n",
       "      <td>0.000000</td>\n",
       "      <td>0.000000</td>\n",
       "      <td>0.000000</td>\n",
       "      <td>0.000000</td>\n",
       "      <td>0.000000</td>\n",
       "      <td>0.000000</td>\n",
       "      <td>0.000000</td>\n",
       "      <td>0.000000</td>\n",
       "      <td>...</td>\n",
       "      <td>0.000000</td>\n",
       "      <td>0.000000</td>\n",
       "      <td>0.000000</td>\n",
       "      <td>0.000000</td>\n",
       "      <td>0.000000</td>\n",
       "      <td>0.000000</td>\n",
       "      <td>1.000000</td>\n",
       "      <td>1.000000</td>\n",
       "      <td>1.000000</td>\n",
       "      <td>0.000000</td>\n",
       "    </tr>\n",
       "    <tr>\n",
       "      <td>25%</td>\n",
       "      <td>0.000000</td>\n",
       "      <td>0.000000</td>\n",
       "      <td>0.000000</td>\n",
       "      <td>0.000000</td>\n",
       "      <td>0.000000</td>\n",
       "      <td>0.000000</td>\n",
       "      <td>0.000000</td>\n",
       "      <td>0.000000</td>\n",
       "      <td>0.000000</td>\n",
       "      <td>0.000000</td>\n",
       "      <td>...</td>\n",
       "      <td>0.000000</td>\n",
       "      <td>0.000000</td>\n",
       "      <td>0.000000</td>\n",
       "      <td>0.000000</td>\n",
       "      <td>0.000000</td>\n",
       "      <td>0.000000</td>\n",
       "      <td>1.588000</td>\n",
       "      <td>6.000000</td>\n",
       "      <td>35.000000</td>\n",
       "      <td>0.000000</td>\n",
       "    </tr>\n",
       "    <tr>\n",
       "      <td>50%</td>\n",
       "      <td>0.000000</td>\n",
       "      <td>0.000000</td>\n",
       "      <td>0.000000</td>\n",
       "      <td>0.000000</td>\n",
       "      <td>0.000000</td>\n",
       "      <td>0.000000</td>\n",
       "      <td>0.000000</td>\n",
       "      <td>0.000000</td>\n",
       "      <td>0.000000</td>\n",
       "      <td>0.000000</td>\n",
       "      <td>...</td>\n",
       "      <td>0.000000</td>\n",
       "      <td>0.065000</td>\n",
       "      <td>0.000000</td>\n",
       "      <td>0.000000</td>\n",
       "      <td>0.000000</td>\n",
       "      <td>0.000000</td>\n",
       "      <td>2.276000</td>\n",
       "      <td>15.000000</td>\n",
       "      <td>95.000000</td>\n",
       "      <td>0.000000</td>\n",
       "    </tr>\n",
       "    <tr>\n",
       "      <td>75%</td>\n",
       "      <td>0.000000</td>\n",
       "      <td>0.000000</td>\n",
       "      <td>0.420000</td>\n",
       "      <td>0.000000</td>\n",
       "      <td>0.380000</td>\n",
       "      <td>0.000000</td>\n",
       "      <td>0.000000</td>\n",
       "      <td>0.000000</td>\n",
       "      <td>0.000000</td>\n",
       "      <td>0.160000</td>\n",
       "      <td>...</td>\n",
       "      <td>0.000000</td>\n",
       "      <td>0.188000</td>\n",
       "      <td>0.000000</td>\n",
       "      <td>0.315000</td>\n",
       "      <td>0.052000</td>\n",
       "      <td>0.000000</td>\n",
       "      <td>3.706000</td>\n",
       "      <td>43.000000</td>\n",
       "      <td>266.000000</td>\n",
       "      <td>1.000000</td>\n",
       "    </tr>\n",
       "    <tr>\n",
       "      <td>max</td>\n",
       "      <td>4.540000</td>\n",
       "      <td>14.280000</td>\n",
       "      <td>5.100000</td>\n",
       "      <td>42.810000</td>\n",
       "      <td>10.000000</td>\n",
       "      <td>5.880000</td>\n",
       "      <td>7.270000</td>\n",
       "      <td>11.110000</td>\n",
       "      <td>5.260000</td>\n",
       "      <td>18.180000</td>\n",
       "      <td>...</td>\n",
       "      <td>4.385000</td>\n",
       "      <td>9.752000</td>\n",
       "      <td>4.081000</td>\n",
       "      <td>32.478000</td>\n",
       "      <td>6.003000</td>\n",
       "      <td>19.829000</td>\n",
       "      <td>1102.500000</td>\n",
       "      <td>9989.000000</td>\n",
       "      <td>15841.000000</td>\n",
       "      <td>1.000000</td>\n",
       "    </tr>\n",
       "  </tbody>\n",
       "</table>\n",
       "<p>8 rows × 58 columns</p>\n",
       "</div>"
      ],
      "text/plain": [
       "       word_freq_make  word_freq_address  word_freq_all  word_freq_3d  \\\n",
       "count     4601.000000        4601.000000    4601.000000   4601.000000   \n",
       "mean         0.104553           0.213015       0.280656      0.065425   \n",
       "std          0.305358           1.290575       0.504143      1.395151   \n",
       "min          0.000000           0.000000       0.000000      0.000000   \n",
       "25%          0.000000           0.000000       0.000000      0.000000   \n",
       "50%          0.000000           0.000000       0.000000      0.000000   \n",
       "75%          0.000000           0.000000       0.420000      0.000000   \n",
       "max          4.540000          14.280000       5.100000     42.810000   \n",
       "\n",
       "       word_freq_our  word_freq_over  word_freq_remove  word_freq_internet  \\\n",
       "count    4601.000000     4601.000000       4601.000000         4601.000000   \n",
       "mean        0.312223        0.095901          0.114208            0.105295   \n",
       "std         0.672513        0.273824          0.391441            0.401071   \n",
       "min         0.000000        0.000000          0.000000            0.000000   \n",
       "25%         0.000000        0.000000          0.000000            0.000000   \n",
       "50%         0.000000        0.000000          0.000000            0.000000   \n",
       "75%         0.380000        0.000000          0.000000            0.000000   \n",
       "max        10.000000        5.880000          7.270000           11.110000   \n",
       "\n",
       "       word_freq_order  word_freq_mail  ...  char_freq_%3B  char_freq_%28  \\\n",
       "count      4601.000000     4601.000000  ...    4601.000000    4601.000000   \n",
       "mean          0.090067        0.239413  ...       0.038575       0.139030   \n",
       "std           0.278616        0.644755  ...       0.243471       0.270355   \n",
       "min           0.000000        0.000000  ...       0.000000       0.000000   \n",
       "25%           0.000000        0.000000  ...       0.000000       0.000000   \n",
       "50%           0.000000        0.000000  ...       0.000000       0.065000   \n",
       "75%           0.000000        0.160000  ...       0.000000       0.188000   \n",
       "max           5.260000       18.180000  ...       4.385000       9.752000   \n",
       "\n",
       "       char_freq_%5B  char_freq_%21  char_freq_%24  char_freq_%23  \\\n",
       "count    4601.000000    4601.000000    4601.000000    4601.000000   \n",
       "mean        0.016976       0.269071       0.075811       0.044238   \n",
       "std         0.109394       0.815672       0.245882       0.429342   \n",
       "min         0.000000       0.000000       0.000000       0.000000   \n",
       "25%         0.000000       0.000000       0.000000       0.000000   \n",
       "50%         0.000000       0.000000       0.000000       0.000000   \n",
       "75%         0.000000       0.315000       0.052000       0.000000   \n",
       "max         4.081000      32.478000       6.003000      19.829000   \n",
       "\n",
       "       capital_run_length_average  capital_run_length_longest  \\\n",
       "count                 4601.000000                 4601.000000   \n",
       "mean                     5.191515                   52.172789   \n",
       "std                     31.729449                  194.891310   \n",
       "min                      1.000000                    1.000000   \n",
       "25%                      1.588000                    6.000000   \n",
       "50%                      2.276000                   15.000000   \n",
       "75%                      3.706000                   43.000000   \n",
       "max                   1102.500000                 9989.000000   \n",
       "\n",
       "       capital_run_length_total        class  \n",
       "count               4601.000000  4601.000000  \n",
       "mean                 283.289285     0.394045  \n",
       "std                  606.347851     0.488698  \n",
       "min                    1.000000     0.000000  \n",
       "25%                   35.000000     0.000000  \n",
       "50%                   95.000000     0.000000  \n",
       "75%                  266.000000     1.000000  \n",
       "max                15841.000000     1.000000  \n",
       "\n",
       "[8 rows x 58 columns]"
      ]
     },
     "execution_count": 2,
     "metadata": {},
     "output_type": "execute_result"
    }
   ],
   "source": [
    "# Import the data with pandas\n",
    "\n",
    "data = pd.read_csv(\"spambase.csv\")\n",
    "data.describe()"
   ]
  },
  {
   "cell_type": "markdown",
   "metadata": {},
   "source": [
    "The is a spam dataset with 57 features and a binary label.\n",
    "It is described in detail here: https://archive.ics.uci.edu/ml/datasets/spambase\n",
    "\n",
    "\n",
    "It looks like we will need to scale the data:"
   ]
  },
  {
   "cell_type": "code",
   "execution_count": 3,
   "metadata": {},
   "outputs": [],
   "source": [
    "y = np.array(data.iloc[:, -1])  # This is the last column of the data\n",
    "n = len(y)\n",
    "X = np.hstack((np.ones((n, 1)), data.iloc[:,0:-1]))\n",
    "m = len(X.T)\n",
    "\n",
    "#Required for convergence\n",
    "X = sk_StandardScaler().fit_transform(X)"
   ]
  },
  {
   "cell_type": "code",
   "execution_count": 4,
   "metadata": {},
   "outputs": [],
   "source": [
    "# Here we build our classifier\n",
    "# TODO impliment arbitrary cost functions or metrics\n",
    "\n",
    "class LogisticRegression:\n",
    "    def __init__(self, ld=1e-5, stepsize=1, iters = 1e4, tol=1):\n",
    "        \"\"\"\n",
    "        Constructor for LogisticRegression class\n",
    "        :param ld: (float) regularization weighting\n",
    "        :param stepsize: (float) Gradient descent step size\n",
    "        :param iters: (int) Maximum iterations \n",
    "        :param tol: (float) Convergence criteria\n",
    "        \"\"\"\n",
    "        B = np.zeros(m)\n",
    "        self.stepsize=stepsize\n",
    "        self.ld=ld\n",
    "        self.tol = tol\n",
    "        self.iters = np.int(iters)\n",
    "        \n",
    "    def predict(self, X, threshold=0.5):\n",
    "        \"\"\"\n",
    "        Binary predictions\n",
    "        :param X: (numpy array) input vectors\n",
    "        :param threshold: (float) classification threshold\n",
    "        :return: (vector) Vector of binary predictions\n",
    "        \"\"\"\n",
    "        return np.digitize(expit(X @ self.B.T), [threshold], True)\n",
    "    \n",
    "    def predict_proba(self, X):\n",
    "        \"\"\"\n",
    "        Continuous/probabilistic redictions\n",
    "        :param X: (array) input vectors\n",
    "        :return: (vector) Vector of estimated probabilities\n",
    "        \"\"\"\n",
    "        return expit(X @ self.B.T)\n",
    "\n",
    "    def GD_step(self, X, B, y):\n",
    "        \"\"\"\n",
    "        A single iteration of gradient descent\n",
    "        :param X: (array) input vectors\n",
    "        :param B: (vector) LR coefficients\n",
    "        :param y: (vector) targets\n",
    "        \"\"\"\n",
    "        n = len(y)\n",
    "        h = expit(X@B)\n",
    "        deltaJ = (self.stepsize/n)* (X.T @ (h - y)  + 2 * self.ld * B)\n",
    "        return (B - self.stepsize * deltaJ)\n",
    "\n",
    "    def NLL(self, X, B, y):\n",
    "        \"\"\"\n",
    "        Calculate the cost as total negative log-liklihood\n",
    "        :param X: (array) input vectors\n",
    "        :param B: (vector) LR coefficients\n",
    "        :param y: (vector) targets\n",
    "        \"\"\"\n",
    "        type1 = sum(-y*np.log(expit(X@B)))\n",
    "        type2 = sum((1- y) * np.log(1-expit(X@B)))\n",
    "        L2 = sum(self.ld * B**2)\n",
    "        cost = np.nansum([type1.T, -type2.T]) + L2\n",
    "        return cost\n",
    "    \n",
    "    def accuracy_breakdown(self, X, y, threshold=0.5):\n",
    "        \"\"\"\n",
    "        This returns a summary of the confusion matrix\n",
    "        :parm X: (array) input vectors\n",
    "        :param y: (vector) targets\n",
    "        :returns: (dict) breakdown of true and false positive and negatives\n",
    "        \"\"\"\n",
    "        result, count = np.unique(y - LR.predict(X, threshold=threshold)*0.1, return_counts=True)\n",
    "        return dict(zip(['False Positive', 'True Negative', 'True Positive', 'False Negative'], count))\n",
    "\n",
    "    def fit(self, X, y, B=np.zeros(len(X.T)).T, verbose=True):\n",
    "        \"\"\"\n",
    "        Perform a GD fit\n",
    "        :param X: (array) input vectors\n",
    "        :param y: (vector) targets\n",
    "        :param B: (vector) LR coefficients:\n",
    "        :param verbose: (bool) verbosity\n",
    "        \"\"\"\n",
    "        conv = np.zeros(self.iters)\n",
    "        i =0\n",
    "        while True:\n",
    "            B = self.GD_step(X, B, y)\n",
    "            conv[i] = self.NLL(X,B, y)\n",
    "            if ((conv[i] - conv[i-1]) >  conv[i] * 1.44):\n",
    "                print(\"Diverging!\")\n",
    "                return conv\n",
    "            if (np.abs(conv[i-1] - conv[i]) < self.tol):\n",
    "                if verbose: \n",
    "                    print(\"Converged in %s iterations!\" % i)\n",
    "                conv = conv[0:i]\n",
    "                self.B = B\n",
    "                return conv\n",
    "            if i== self.iters-1: \n",
    "                print(\"Max iters reached! \")\n",
    "                conv = conv[0:i]\n",
    "                self.B = B\n",
    "                return conv\n",
    "            if verbose:\n",
    "                print(\"\\rIter: %s, Cost: %.2f\" % (i, conv[i]), end =\" \")\n",
    "            i += 1    \n",
    "\n",
    "    def crossValidate(self, X, y, folds=np.sqrt(X.shape[0]), verbose=True, **kwargs):\n",
    "        \"\"\"\n",
    "        Crossvalidate the model\n",
    "        :param X: (matrix) Input vectors\n",
    "        :param y: (vector) Targets\n",
    "        :param folds: (int) Number of CV iterations\n",
    "        :param verbose: (bool) Verbosity\n",
    "        :param **kwargs: (dict) Keywords for self.fit\n",
    "        :return: (float) Estimated tests accuracy\n",
    "        \"\"\" \n",
    "        # TODO impliment arbitrary metric function \n",
    "        results = np.zeros(folds)\n",
    "        chunks = chunk(np.hstack((X, np.array([y]).T)), folds)\n",
    "        for i in range(len(chunks)): \n",
    "            val_model = LogisticRegression(self.ld, self.stepsize, self.iters, self.tol)\n",
    "            X_train = np.vstack(chunks[np.arange(folds) != i])[:, 0:-1]\n",
    "            y_train = np.vstack(chunks[np.arange(folds) != i])[:, -1]\n",
    "            \n",
    "            X_test = chunks[i][:, 0:-1]\n",
    "            y_test = chunks[i][:, -1]\n",
    "                    \n",
    "            val_model.fit(X_train, y_train, verbose=False, **kwargs)\n",
    "            results[i] = val_model.accuracy(X_test, y_test)\n",
    "            \n",
    "            if verbose:\n",
    "                print(\"\\rIter %s accuracy: %.3f\" % (i, results[i]))            \n",
    "        mean = np.mean(results)\n",
    "        std =  np.std(results)\n",
    "        \n",
    "        if std > 0.05:\n",
    "            print(\"Warning - low confidence\")\n",
    "        return np.mean(results)\n",
    "\n",
    "    def accuracy(self, X, y, threshold=0.5):\n",
    "        \"\"\"\n",
    "        Calculates accuracy\n",
    "        :param X: (array) Input vectors\n",
    "        :param y: (vector) Labels\n",
    "        :return: (float) accuracy\n",
    "        \"\"\"\n",
    "        matrix = y == self.predict(X, threshold=threshold)\n",
    "        return np.mean(matrix)\n",
    "    \n",
    "    def print_confusion_matrix(self, X, y, threshold=0.5):\n",
    "        \"\"\"\n",
    "        Prints confusion matrix\n",
    "        :param X: (array) Input vectors\n",
    "        :param y: (vector) targets\n",
    "        \"\"\"\n",
    "        breakdown = self.accuracy_breakdown(X, y, threshold=0.5)\n",
    "        print(\"~~~~~~~~~~~~~~\")\n",
    "        print('{{{:6}'.format('TP') + '{:>6}}}'.format('FP'))\n",
    "        print('{{{:6}'.format(breakdown['True Positive']) + '{:>6}}}'.format(breakdown['False Positive']))\n",
    "        print('{{{:6}'.format(breakdown['False Negative']) + '{:>6}}}'.format(breakdown['True Negative']))\n",
    "        print('{{{:6}'.format('FN') + '{:>6}}}'.format('TN'))\n",
    "        print(\"~~~~~~~~~~~~~~\")\n"
   ]
  },
  {
   "cell_type": "code",
   "execution_count": 5,
   "metadata": {},
   "outputs": [],
   "source": [
    "# Two other tools we will need: \n",
    "\n",
    "def expit(X, epsilon=1e-6):\n",
    "    \"\"\"\n",
    "    Expit function with slight nudge to prevent numerical errors\n",
    "    :param X: (array) Input vectors\n",
    "    :param epsilon: (float) Nudget coefficient\n",
    "    \"\"\"\n",
    "    from scipy.special import expit as spexpit\n",
    "    return spexpit(X) - (spexpit(X) - 0.5) * epsilon\n",
    "\n",
    "def chunk(X, chunks):\n",
    "    \"\"\"\n",
    "    Shuffles an array into chunks for cross-validation\n",
    "    :param X: input vectors\n",
    "    :param chunks: number of fold\n",
    "    \"\"\"\n",
    "    np.random.shuffle(X)\n",
    "    return np.asarray(np.array_split(X, chunks, 0))\n",
    "    "
   ]
  },
  {
   "cell_type": "code",
   "execution_count": 6,
   "metadata": {},
   "outputs": [
    {
     "name": "stdout",
     "output_type": "stream",
     "text": [
      "Iter: 556, Cost: 1517.38 Converged in 557 iterations!\n"
     ]
    }
   ],
   "source": [
    "LR = LogisticRegression(stepsize=1e-1, iters=5E4, tol=5E-1)\n",
    "conv = LR.fit(X, y)"
   ]
  },
  {
   "cell_type": "code",
   "execution_count": 7,
   "metadata": {},
   "outputs": [
    {
     "data": {
      "image/png": "[encoded data removed]",
      "text/plain": [
       "<Figure size 432x288 with 1 Axes>"
      ]
     },
     "metadata": {
      "needs_background": "light"
     },
     "output_type": "display_data"
    }
   ],
   "source": [
    "plt.loglog(conv, '.')\n",
    "plt.xlabel(\"Iteration\")\n",
    "plt.ylabel(\"Cost\")\n",
    "plt.title(\"Convergence\")\n",
    "\n",
    "plt.show()"
   ]
  },
  {
   "cell_type": "markdown",
   "metadata": {},
   "source": [
    "Clearly our model is converging! "
   ]
  },
  {
   "cell_type": "code",
   "execution_count": 8,
   "metadata": {},
   "outputs": [
    {
     "name": "stdout",
     "output_type": "stream",
     "text": [
      "0.9128450336883286\n",
      "0.9302325581395349\n"
     ]
    },
    {
     "name": "stderr",
     "output_type": "stream",
     "text": [
      "C:\\Users\\strix\\Anaconda3\\lib\\site-packages\\sklearn\\linear_model\\logistic.py:432: FutureWarning: Default solver will be changed to 'lbfgs' in 0.22. Specify a solver to silence this warning.\n",
      "  FutureWarning)\n"
     ]
    }
   ],
   "source": [
    "LR_sk = sk_LogisticRegression()\n",
    "LR_sk.fit(X, y)\n",
    "\n",
    "print(LR.accuracy(X, y))\n",
    "print(LR_sk.score(X, y))\n",
    "\n"
   ]
  },
  {
   "cell_type": "markdown",
   "metadata": {},
   "source": [
    "Our results are similar to the SKLearn implimentation. Our accuracy is slightly lower,  but this is likely due to difference convergence conditions"
   ]
  },
  {
   "cell_type": "code",
   "execution_count": 21,
   "metadata": {},
   "outputs": [
    {
     "data": {
      "image/png": "[encoded data removed]",
      "text/plain": [
       "<Figure size 432x288 with 1 Axes>"
      ]
     },
     "metadata": {
      "needs_background": "light"
     },
     "output_type": "display_data"
    }
   ],
   "source": [
    "plt.plot(LR.predict_proba(X), '.', alpha=0.25, color='Orange')\n",
    "plt.plot(y, '.', color='Blue')\n",
    "\n",
    "plt.ylim((0, 1))\n",
    "plt.xlabel(\"Index\")\n",
    "plt.ylabel(\"Spam Probability\")\n",
    "plt.legend((\"Predicted Probability\", \"Label\",))\n",
    "\n",
    "plt.show()"
   ]
  },
  {
   "cell_type": "markdown",
   "metadata": {},
   "source": [
    "The predictive power of our model is obvious; it is clear that the predicted probability of belonging to the Spam class is near 1 for most spam emails and near 0 for most legitimate emails "
   ]
  },
  {
   "cell_type": "code",
   "execution_count": 10,
   "metadata": {},
   "outputs": [
    {
     "data": {
      "image/png": "[encoded data removed]",
      "text/plain": [
       "<Figure size 432x288 with 1 Axes>"
      ]
     },
     "metadata": {
      "needs_background": "light"
     },
     "output_type": "display_data"
    }
   ],
   "source": [
    "plt.xlabel(\"Feature\")\n",
    "plt.ylabel(\"Prediction Error\")\n",
    "\n",
    "plt.yticks((-1, 0, 1), [\"False Positive\", \"Correct\", \"False Negative\"])\n",
    "plt.plot(y - LR.predict(X), '.', alpha=0.05)\n",
    "plt.show()"
   ]
  },
  {
   "cell_type": "code",
   "execution_count": 11,
   "metadata": {},
   "outputs": [
    {
     "name": "stdout",
     "output_type": "stream",
     "text": [
      "Iter 0 accuracy: 0.917\n",
      "Iter 1 accuracy: 0.913\n",
      "Iter 2 accuracy: 0.904\n",
      "Iter 3 accuracy: 0.905\n",
      "Iter 4 accuracy: 0.902\n",
      "Validation Accuracy: 0.908\n"
     ]
    }
   ],
   "source": [
    "validation_accuracy = LR.crossValidate(X, y, folds=5)\n",
    "\n",
    "print('Validation Accuracy: %.3f' % validation_accuracy)"
   ]
  },
  {
   "cell_type": "markdown",
   "metadata": {},
   "source": [
    "Our validation accuracy is ~92%, which appears excellent. Let's break down our results:"
   ]
  },
  {
   "cell_type": "code",
   "execution_count": 12,
   "metadata": {},
   "outputs": [
    {
     "name": "stdout",
     "output_type": "stream",
     "text": [
      "{'False Positive': 212, 'True Negative': 2576, 'True Positive': 1624, 'False Negative': 189}\n",
      "\n",
      "~~~~~~~~~~~~~~\n",
      "{TP        FP}\n",
      "{  1624   212}\n",
      "{   189  2576}\n",
      "{FN        TN}\n",
      "~~~~~~~~~~~~~~\n"
     ]
    }
   ],
   "source": [
    "print(LR.accuracy_breakdown(X, y))\n",
    "\n",
    "print('')\n",
    "LR.print_confusion_matrix(X, y)"
   ]
  },
  {
   "cell_type": "markdown",
   "metadata": {},
   "source": [
    "It is important to avoid false positives in spam detection, so we raise the detection threshold. "
   ]
  },
  {
   "cell_type": "code",
   "execution_count": 13,
   "metadata": {},
   "outputs": [
    {
     "name": "stdout",
     "output_type": "stream",
     "text": [
      "{'False Positive': 13, 'True Negative': 2775, 'True Positive': 511, 'False Negative': 1302}\n"
     ]
    }
   ],
   "source": [
    "result, count = np.unique(y - LR.predict(X, threshold=0.95)*0.1, return_counts=True)\n",
    "results = dict(zip(['False Positive', 'True Negative', 'True Positive', 'False Negative'], count))\n",
    "print(results)"
   ]
  },
  {
   "cell_type": "code",
   "execution_count": 14,
   "metadata": {},
   "outputs": [
    {
     "data": {
      "image/png": "[encoded data removed]",
      "text/plain": [
       "<Figure size 432x288 with 1 Axes>"
      ]
     },
     "metadata": {
      "needs_background": "light"
     },
     "output_type": "display_data"
    }
   ],
   "source": [
    "plt.xlabel(\"Feature\")\n",
    "plt.ylabel(\"Classification Results\")\n",
    "\n",
    "plt.yticks((-1, 0, 1), [\"False Positive\", \"Correct\", \"False Negative\"])\n",
    "plt.plot(y - LR.predict(X, threshold=0.95), '.', alpha=0.05)\n",
    "plt.show()"
   ]
  },
  {
   "cell_type": "code",
   "execution_count": 15,
   "metadata": {},
   "outputs": [
    {
     "name": "stdout",
     "output_type": "stream",
     "text": [
      "{'False Positive': 1, 'True Negative': 2787, 'True Positive': 23, 'False Negative': 1790}\n"
     ]
    }
   ],
   "source": [
    "result, count = np.unique(y - LR.predict(X, threshold=0.999)*0.1, return_counts=True)\n",
    "results = dict(zip(['False Positive', 'True Negative', 'True Positive', 'False Negative'], count))\n",
    "print(results)"
   ]
  },
  {
   "cell_type": "markdown",
   "metadata": {},
   "source": [
    "Even with a threshold of 99.9% confidence, we had ~10 false positives, representing about 0.5% of the legitimate email. This would likely be unacceptable for deployment unfortuately"
   ]
  },
  {
   "cell_type": "code",
   "execution_count": 16,
   "metadata": {},
   "outputs": [
    {
     "name": "stdout",
     "output_type": "stream",
     "text": [
      "Iter 0 accuracy: 0.912\n",
      "Iter 1 accuracy: 0.914\n",
      "Iter 0 accuracy: 0.921\n",
      "Iter 1 accuracy: 0.913\n",
      "Iter 0 accuracy: 0.913\n",
      "Iter 1 accuracy: 0.924\n",
      "Iter 0 accuracy: 0.910\n",
      "Iter 1 accuracy: 0.922\n",
      "Iter 0 accuracy: 0.920\n",
      "Iter 1 accuracy: 0.914\n",
      "Iter 0 accuracy: 0.910\n",
      "Iter 1 accuracy: 0.919\n"
     ]
    }
   ],
   "source": [
    "paramsearch = []\n",
    "for l in np.logspace(-5, 0, 6):\n",
    "    LR = LogisticRegression(ld=l)\n",
    "    paramsearch.append((l, LR.crossValidate(X, y, folds=2)))"
   ]
  },
  {
   "cell_type": "code",
   "execution_count": 17,
   "metadata": {},
   "outputs": [
    {
     "name": "stdout",
     "output_type": "stream",
     "text": [
      "Iter: 18, Cost: 1080.58 Converged in 19 iterations!\n",
      "{'False Positive': 146, 'True Negative': 2642, 'True Positive': 1610, 'False Negative': 203}\n"
     ]
    }
   ],
   "source": [
    "LR = LogisticRegression(stepsize=3, ld=0.001)\n",
    "LR.fit(X, y)\n",
    "\n",
    "result, count = np.unique(y - LR.predict(X)*0.1, return_counts=True)\n",
    "results = dict(zip(['False Positive', 'True Negative', 'True Positive', 'False Negative'], count))\n",
    "print(results)"
   ]
  },
  {
   "cell_type": "code",
   "execution_count": 18,
   "metadata": {},
   "outputs": [
    {
     "name": "stdout",
     "output_type": "stream",
     "text": [
      "{'False Positive': 13, 'True Negative': 2775, 'True Positive': 574, 'False Negative': 1239}\n"
     ]
    }
   ],
   "source": [
    "result, count = np.unique(y - LR.predict(X, threshold=0.999)*0.1, return_counts=True)\n",
    "results = dict(zip(['False Positive', 'True Negative', 'True Positive', 'False Negative'], count))\n",
    "print(results)"
   ]
  },
  {
   "cell_type": "code",
   "execution_count": 19,
   "metadata": {},
   "outputs": [],
   "source": [
    "# print(X)"
   ]
  },
  {
   "cell_type": "code",
   "execution_count": 20,
   "metadata": {},
   "outputs": [],
   "source": [
    "?np.split"
   ]
  },
  {
   "cell_type": "code",
   "execution_count": null,
   "metadata": {},
   "outputs": [],
   "source": []
  }
 ],
 "metadata": {
  "kernelspec": {
   "display_name": "Python 3",
   "language": "python",
   "name": "python3"
  },
  "language_info": {
   "codemirror_mode": {
    "name": "ipython",
    "version": 3
   },
   "file_extension": ".py",
   "mimetype": "text/x-python",
   "name": "python",
   "nbconvert_exporter": "python",
   "pygments_lexer": "ipython3",
   "version": "3.7.4"
  }
 },
 "nbformat": 4,
 "nbformat_minor": 2
}
