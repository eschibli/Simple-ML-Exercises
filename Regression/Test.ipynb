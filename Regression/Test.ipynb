{
 "cells": [
  {
   "cell_type": "code",
   "execution_count": 1,
   "metadata": {},
   "outputs": [],
   "source": [
    "#Import Libraries\n",
    "import numpy as np\n",
    "import pandas as pd\n",
    "import matplotlib.pyplot as plt\n",
    "\n",
    "# scikit-learn tools\n",
    "from sklearn.preprocessing import StandardScaler\n",
    "from sklearn.model_selection import train_test_split\n",
    "from sklearn.linear_model import LogisticRegression\n",
    "from sklearn.metrics import confusion_matrix, accuracy_score\n",
    "import timeit\n",
    "# Cancer dataset\n",
    "from sklearn.datasets import load_breast_cancer\n",
    "\n",
    "\n",
    "import logistic_regression as our_model"
   ]
  },
  {
   "cell_type": "code",
   "execution_count": 2,
   "metadata": {},
   "outputs": [],
   "source": [
    "data = load_breast_cancer()\n",
    "\n",
    "data['scaled'] = StandardScaler().fit_transform(data['data'])\n",
    "X_train, X_test, y_train, y_test = train_test_split(data['scaled'], data['target'])"
   ]
  },
  {
   "cell_type": "code",
   "execution_count": 3,
   "metadata": {},
   "outputs": [],
   "source": [
    "lr_ours = our_model.LogisticRegression()\n",
    "lr_sk = LogisticRegression()"
   ]
  },
  {
   "cell_type": "code",
   "execution_count": 4,
   "metadata": {},
   "outputs": [
    {
     "name": "stdout",
     "output_type": "stream",
     "text": [
      "\r",
      "Iter: 0, Cost: 331.00 \r",
      "Iter: 1, Cost: 180.20 \r",
      "Iter: 2, Cost: 102.95 \r",
      "Iter: 3, Cost: 84.07 \r",
      "Iter: 4, Cost: 70.49 \r",
      "Iter: 5, Cost: 62.92 \r",
      "Iter: 6, Cost: 58.68 \r",
      "Iter: 7, Cost: 55.75 \r",
      "Iter: 8, Cost: 53.58 \r",
      "Iter: 9, Cost: 51.86 \r",
      "Iter: 10, Cost: 50.44 \r",
      "Iter: 11, Cost: 49.19 \r",
      "Iter: 12, Cost: 48.08 \r",
      "Iter: 13, Cost: 47.06 Converged in 14 iterations!\n",
      "Our time: 0.012\n",
      "scikit-learn's time: 0.004\n"
     ]
    },
    {
     "name": "stderr",
     "output_type": "stream",
     "text": [
      "C:\\Users\\strix\\Anaconda3\\lib\\site-packages\\sklearn\\linear_model\\logistic.py:432: FutureWarning: Default solver will be changed to 'lbfgs' in 0.22. Specify a solver to silence this warning.\n",
      "  FutureWarning)\n"
     ]
    }
   ],
   "source": [
    "start_time = timeit.default_timer()\n",
    "lr_ours.fit(X_train, y_train)\n",
    "our_time = timeit.default_timer() - start_time\n",
    "\n",
    "start_time = timeit.default_timer()\n",
    "lr_sk.fit(X_train, y_train)\n",
    "sk_time = timeit.default_timer() - start_time\n",
    "\n",
    "\n",
    "print(\"Our time: %.3f\" % our_time)\n",
    "print(\"scikit-learn's time: %.3f\" % sk_time)"
   ]
  },
  {
   "cell_type": "markdown",
   "metadata": {},
   "source": [
    "Our code appears to be much slower. This is likely scikit-learn is highly optimized, and the intensive components are likely running in compiled fortran or C. We also may be using a different converngence criteria by default. \n",
    "\n",
    "Let's check the accuracy:"
   ]
  },
  {
   "cell_type": "code",
   "execution_count": 5,
   "metadata": {},
   "outputs": [
    {
     "name": "stdout",
     "output_type": "stream",
     "text": [
      "Our accuracy: 0.95105\n",
      "scikit-learn's accuracy: 0.95804\n"
     ]
    }
   ],
   "source": [
    "our_acc = accuracy_score(lr_ours.predict(X_test), y_test)\n",
    "sk_acc = accuracy_score(lr_sk.predict(X_test), y_test)\n",
    "\n",
    "print(\"Our accuracy: %.5f\" % our_acc)\n",
    "print(\"scikit-learn's accuracy: %.5f\" % sk_acc)"
   ]
  },
  {
   "cell_type": "markdown",
   "metadata": {},
   "source": [
    "The test accuracies are also very similar. The small discrepency may result from differences in convergence criteria or default regularization behavior."
   ]
  },
  {
   "cell_type": "code",
   "execution_count": 6,
   "metadata": {},
   "outputs": [
    {
     "name": "stdout",
     "output_type": "stream",
     "text": [
      "Ours:\n",
      "[[49  2]\n",
      " [ 5 87]]\n",
      "Scikit-Learn:\n",
      "[[49  2]\n",
      " [ 4 88]]\n"
     ]
    }
   ],
   "source": [
    "print(\"Ours:\")\n",
    "print(confusion_matrix(y_test, lr_ours.predict(X_test)))\n",
    "\n",
    "print(\"Scikit-Learn:\")\n",
    "print(confusion_matrix(y_test, lr_sk.predict(X_test)))\n"
   ]
  },
  {
   "cell_type": "markdown",
   "metadata": {},
   "source": [
    "Our confusion matrices are also very similar, so our model appears to be working! "
   ]
  },
  {
   "cell_type": "code",
   "execution_count": null,
   "metadata": {},
   "outputs": [],
   "source": []
  }
 ],
 "metadata": {
  "kernelspec": {
   "display_name": "Python 3",
   "language": "python",
   "name": "python3"
  },
  "language_info": {
   "codemirror_mode": {
    "name": "ipython",
    "version": 3
   },
   "file_extension": ".py",
   "mimetype": "text/x-python",
   "name": "python",
   "nbconvert_exporter": "python",
   "pygments_lexer": "ipython3",
   "version": "3.7.4"
  }
 },
 "nbformat": 4,
 "nbformat_minor": 2
}
