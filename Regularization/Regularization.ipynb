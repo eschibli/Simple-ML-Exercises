{
 "cells": [
  {
   "cell_type": "code",
   "execution_count": 1,
   "metadata": {},
   "outputs": [],
   "source": [
    "#Import Libraries\n",
    "import numpy as np\n",
    "import pandas as pd\n",
    "import matplotlib.pyplot as plt\n",
    "\n",
    "# scikit-learn tools\n",
    "from sklearn.preprocessing import StandardScaler\n",
    "from sklearn.model_selection import train_test_split\n",
    "# from sklearn.linear_model import LogisticRegression\n",
    "import sklearn.metrics\n",
    "\n",
    "# Our logistic regression package\n",
    "from logistic_regression import LogisticRegression\n"
   ]
  },
  {
   "cell_type": "markdown",
   "metadata": {},
   "source": [
    "Load the Spambase dataset"
   ]
  },
  {
   "cell_type": "code",
   "execution_count": 2,
   "metadata": {},
   "outputs": [
    {
     "data": {
      "text/html": [
       "<div>\n",
       "<style scoped>\n",
       "    .dataframe tbody tr th:only-of-type {\n",
       "        vertical-align: middle;\n",
       "    }\n",
       "\n",
       "    .dataframe tbody tr th {\n",
       "        vertical-align: top;\n",
       "    }\n",
       "\n",
       "    .dataframe thead th {\n",
       "        text-align: right;\n",
       "    }\n",
       "</style>\n",
       "<table border=\"1\" class=\"dataframe\">\n",
       "  <thead>\n",
       "    <tr style=\"text-align: right;\">\n",
       "      <th></th>\n",
       "      <th>word_freq_make</th>\n",
       "      <th>word_freq_address</th>\n",
       "      <th>word_freq_all</th>\n",
       "      <th>word_freq_3d</th>\n",
       "      <th>word_freq_our</th>\n",
       "      <th>word_freq_over</th>\n",
       "      <th>word_freq_remove</th>\n",
       "      <th>word_freq_internet</th>\n",
       "      <th>word_freq_order</th>\n",
       "      <th>word_freq_mail</th>\n",
       "      <th>...</th>\n",
       "      <th>char_freq_%3B</th>\n",
       "      <th>char_freq_%28</th>\n",
       "      <th>char_freq_%5B</th>\n",
       "      <th>char_freq_%21</th>\n",
       "      <th>char_freq_%24</th>\n",
       "      <th>char_freq_%23</th>\n",
       "      <th>capital_run_length_average</th>\n",
       "      <th>capital_run_length_longest</th>\n",
       "      <th>capital_run_length_total</th>\n",
       "      <th>class</th>\n",
       "    </tr>\n",
       "  </thead>\n",
       "  <tbody>\n",
       "    <tr>\n",
       "      <th>0</th>\n",
       "      <td>0.00</td>\n",
       "      <td>0.64</td>\n",
       "      <td>0.64</td>\n",
       "      <td>0.0</td>\n",
       "      <td>0.32</td>\n",
       "      <td>0.00</td>\n",
       "      <td>0.00</td>\n",
       "      <td>0.00</td>\n",
       "      <td>0.00</td>\n",
       "      <td>0.00</td>\n",
       "      <td>...</td>\n",
       "      <td>0.00</td>\n",
       "      <td>0.000</td>\n",
       "      <td>0.0</td>\n",
       "      <td>0.778</td>\n",
       "      <td>0.000</td>\n",
       "      <td>0.000</td>\n",
       "      <td>3.756</td>\n",
       "      <td>61</td>\n",
       "      <td>278</td>\n",
       "      <td>1</td>\n",
       "    </tr>\n",
       "    <tr>\n",
       "      <th>1</th>\n",
       "      <td>0.21</td>\n",
       "      <td>0.28</td>\n",
       "      <td>0.50</td>\n",
       "      <td>0.0</td>\n",
       "      <td>0.14</td>\n",
       "      <td>0.28</td>\n",
       "      <td>0.21</td>\n",
       "      <td>0.07</td>\n",
       "      <td>0.00</td>\n",
       "      <td>0.94</td>\n",
       "      <td>...</td>\n",
       "      <td>0.00</td>\n",
       "      <td>0.132</td>\n",
       "      <td>0.0</td>\n",
       "      <td>0.372</td>\n",
       "      <td>0.180</td>\n",
       "      <td>0.048</td>\n",
       "      <td>5.114</td>\n",
       "      <td>101</td>\n",
       "      <td>1028</td>\n",
       "      <td>1</td>\n",
       "    </tr>\n",
       "    <tr>\n",
       "      <th>2</th>\n",
       "      <td>0.06</td>\n",
       "      <td>0.00</td>\n",
       "      <td>0.71</td>\n",
       "      <td>0.0</td>\n",
       "      <td>1.23</td>\n",
       "      <td>0.19</td>\n",
       "      <td>0.19</td>\n",
       "      <td>0.12</td>\n",
       "      <td>0.64</td>\n",
       "      <td>0.25</td>\n",
       "      <td>...</td>\n",
       "      <td>0.01</td>\n",
       "      <td>0.143</td>\n",
       "      <td>0.0</td>\n",
       "      <td>0.276</td>\n",
       "      <td>0.184</td>\n",
       "      <td>0.010</td>\n",
       "      <td>9.821</td>\n",
       "      <td>485</td>\n",
       "      <td>2259</td>\n",
       "      <td>1</td>\n",
       "    </tr>\n",
       "    <tr>\n",
       "      <th>3</th>\n",
       "      <td>0.00</td>\n",
       "      <td>0.00</td>\n",
       "      <td>0.00</td>\n",
       "      <td>0.0</td>\n",
       "      <td>0.63</td>\n",
       "      <td>0.00</td>\n",
       "      <td>0.31</td>\n",
       "      <td>0.63</td>\n",
       "      <td>0.31</td>\n",
       "      <td>0.63</td>\n",
       "      <td>...</td>\n",
       "      <td>0.00</td>\n",
       "      <td>0.137</td>\n",
       "      <td>0.0</td>\n",
       "      <td>0.137</td>\n",
       "      <td>0.000</td>\n",
       "      <td>0.000</td>\n",
       "      <td>3.537</td>\n",
       "      <td>40</td>\n",
       "      <td>191</td>\n",
       "      <td>1</td>\n",
       "    </tr>\n",
       "    <tr>\n",
       "      <th>4</th>\n",
       "      <td>0.00</td>\n",
       "      <td>0.00</td>\n",
       "      <td>0.00</td>\n",
       "      <td>0.0</td>\n",
       "      <td>0.63</td>\n",
       "      <td>0.00</td>\n",
       "      <td>0.31</td>\n",
       "      <td>0.63</td>\n",
       "      <td>0.31</td>\n",
       "      <td>0.63</td>\n",
       "      <td>...</td>\n",
       "      <td>0.00</td>\n",
       "      <td>0.135</td>\n",
       "      <td>0.0</td>\n",
       "      <td>0.135</td>\n",
       "      <td>0.000</td>\n",
       "      <td>0.000</td>\n",
       "      <td>3.537</td>\n",
       "      <td>40</td>\n",
       "      <td>191</td>\n",
       "      <td>1</td>\n",
       "    </tr>\n",
       "  </tbody>\n",
       "</table>\n",
       "<p>5 rows × 58 columns</p>\n",
       "</div>"
      ],
      "text/plain": [
       "   word_freq_make  word_freq_address  word_freq_all  word_freq_3d  \\\n",
       "0            0.00               0.64           0.64           0.0   \n",
       "1            0.21               0.28           0.50           0.0   \n",
       "2            0.06               0.00           0.71           0.0   \n",
       "3            0.00               0.00           0.00           0.0   \n",
       "4            0.00               0.00           0.00           0.0   \n",
       "\n",
       "   word_freq_our  word_freq_over  word_freq_remove  word_freq_internet  \\\n",
       "0           0.32            0.00              0.00                0.00   \n",
       "1           0.14            0.28              0.21                0.07   \n",
       "2           1.23            0.19              0.19                0.12   \n",
       "3           0.63            0.00              0.31                0.63   \n",
       "4           0.63            0.00              0.31                0.63   \n",
       "\n",
       "   word_freq_order  word_freq_mail  ...  char_freq_%3B  char_freq_%28  \\\n",
       "0             0.00            0.00  ...           0.00          0.000   \n",
       "1             0.00            0.94  ...           0.00          0.132   \n",
       "2             0.64            0.25  ...           0.01          0.143   \n",
       "3             0.31            0.63  ...           0.00          0.137   \n",
       "4             0.31            0.63  ...           0.00          0.135   \n",
       "\n",
       "   char_freq_%5B  char_freq_%21  char_freq_%24  char_freq_%23  \\\n",
       "0            0.0          0.778          0.000          0.000   \n",
       "1            0.0          0.372          0.180          0.048   \n",
       "2            0.0          0.276          0.184          0.010   \n",
       "3            0.0          0.137          0.000          0.000   \n",
       "4            0.0          0.135          0.000          0.000   \n",
       "\n",
       "   capital_run_length_average  capital_run_length_longest  \\\n",
       "0                       3.756                          61   \n",
       "1                       5.114                         101   \n",
       "2                       9.821                         485   \n",
       "3                       3.537                          40   \n",
       "4                       3.537                          40   \n",
       "\n",
       "   capital_run_length_total  class  \n",
       "0                       278      1  \n",
       "1                      1028      1  \n",
       "2                      2259      1  \n",
       "3                       191      1  \n",
       "4                       191      1  \n",
       "\n",
       "[5 rows x 58 columns]"
      ]
     },
     "execution_count": 2,
     "metadata": {},
     "output_type": "execute_result"
    }
   ],
   "source": [
    "data = pd.read_csv('../data/spambase.csv')\n",
    "data.head()"
   ]
  },
  {
   "cell_type": "markdown",
   "metadata": {},
   "source": [
    "The data contains 57 features and a binary class label (spam vs not spam)\n",
    "\n",
    "As the values appear to all be positive frequences, we us sklearn's standard rescaler"
   ]
  },
  {
   "cell_type": "code",
   "execution_count": 3,
   "metadata": {},
   "outputs": [],
   "source": [
    "scaled_data = StandardScaler().fit_transform(data.drop('class', axis=1))\n",
    "X = np.array(scaled_data)\n",
    "y = np.array(data['class'])"
   ]
  },
  {
   "cell_type": "code",
   "execution_count": 4,
   "metadata": {},
   "outputs": [],
   "source": [
    "X_train, X_test, y_train, y_test = train_test_split(X, y, stratify=y)"
   ]
  },
  {
   "cell_type": "code",
   "execution_count": 5,
   "metadata": {},
   "outputs": [
    {
     "name": "stdout",
     "output_type": "stream",
     "text": [
      "Iter: 144, Cost: 0.22663 Converged in 145 iterations!\n",
      "Test accuracy: 0.92007\n"
     ]
    }
   ],
   "source": [
    "# We tighten the convergence tolerance to exaggerate the overfitting\n",
    "LR_params = {'tol':1E-5, 'stepsize':3E0, 'iters':1E5}\n",
    "\n",
    "LR = LogisticRegression(**LR_params, ld=0)\n",
    "history = LR.fit(X_train, y_train, valid_X=X_test, valid_y=y_test)\n",
    "\n",
    "# accuracy score is (TP+TN) / (TP +TN + FP + FN)\n",
    "\n",
    "acc = sklearn.metrics.accuracy_score(LR.predict(X_test), y_test)\n",
    "print(\"Test accuracy: {:0.5f}\".format(acc))"
   ]
  },
  {
   "cell_type": "markdown",
   "metadata": {},
   "source": [
    "We fit a logistic regression model onto the data and calculate the validation accuracy"
   ]
  },
  {
   "cell_type": "code",
   "execution_count": 6,
   "metadata": {},
   "outputs": [
    {
     "name": "stdout",
     "output_type": "stream",
     "text": [
      "[[650  47]\n",
      " [ 45 409]]\n"
     ]
    }
   ],
   "source": [
    "confusion_matrix = sklearn.metrics.confusion_matrix(y_test, LR.predict(X_test))\n",
    "print(confusion_matrix)"
   ]
  },
  {
   "cell_type": "code",
   "execution_count": 7,
   "metadata": {},
   "outputs": [
    {
     "name": "stdout",
     "output_type": "stream",
     "text": [
      "Precision: 0.897\n",
      "Recall: 0.901\n"
     ]
    }
   ],
   "source": [
    "# precision is pre = TP / (TP + FP)\n",
    "pre = sklearn.metrics.precision_score(y_test, LR.predict(X_test))\n",
    "# recall is rec = TP / (TP + FN)\n",
    "rec = sklearn.metrics.recall_score(y_test, LR.predict(X_test))\n",
    "\n",
    "print(\"Precision: {:0.3f}\".format(pre))\n",
    "print(\"Recall: {:0.3f}\".format(rec))"
   ]
  },
  {
   "cell_type": "code",
   "execution_count": 8,
   "metadata": {},
   "outputs": [
    {
     "name": "stdout",
     "output_type": "stream",
     "text": [
      "F1 Score: 0.899\n"
     ]
    }
   ],
   "source": [
    "# F1 score: (2 * pre  * rec) / (pre + rec)\n",
    "f1_score = sklearn.metrics.f1_score(y_test, LR.predict(X_test))\n",
    "print('F1 Score: {:0.3f}'.format(f1_score))"
   ]
  },
  {
   "cell_type": "code",
   "execution_count": 9,
   "metadata": {},
   "outputs": [
    {
     "data": {
      "image/png": "[encoded data removed]",
      "text/plain": [
       "<Figure size 432x288 with 1 Axes>"
      ]
     },
     "metadata": {
      "needs_background": "light"
     },
     "output_type": "display_data"
    }
   ],
   "source": [
    "fpr, tpr, _ = sklearn.metrics.roc_curve(y_test, LR.predict_proba(X_test))\n",
    "\n",
    "plt.plot(fpr, tpr)\n",
    "plt.xlabel('False positive rate')\n",
    "plt.ylabel('True positive rate')\n",
    "plt.show()"
   ]
  },
  {
   "cell_type": "markdown",
   "metadata": {},
   "source": [
    "A beautiful ROC curve! "
   ]
  },
  {
   "cell_type": "markdown",
   "metadata": {},
   "source": [
    "# Regularization"
   ]
  },
  {
   "cell_type": "code",
   "execution_count": 10,
   "metadata": {},
   "outputs": [
    {
     "data": {
      "image/png": "[encoded data removed]",
      "text/plain": [
       "<Figure size 432x288 with 1 Axes>"
      ]
     },
     "metadata": {
      "needs_background": "light"
     },
     "output_type": "display_data"
    }
   ],
   "source": [
    "plt.loglog(history['training_loss'])\n",
    "plt.loglog(history['validation_loss'])\n",
    "plt.xlabel('Epoch')\n",
    "plt.ylabel('Loss')\n",
    "\n",
    "plt.legend(('Training Loss', 'Validation Loss'))\n",
    "plt.show()"
   ]
  },
  {
   "cell_type": "markdown",
   "metadata": {},
   "source": [
    "We appear to be overfitting. Let's see if we can improve the classification accuracy with regularization! "
   ]
  },
  {
   "cell_type": "code",
   "execution_count": 11,
   "metadata": {},
   "outputs": [
    {
     "name": "stdout",
     "output_type": "stream",
     "text": [
      "Iter: 28, Cost: 0.24440 Converged in 29 iterations!\n"
     ]
    }
   ],
   "source": [
    "LR_regularized = LogisticRegression(ld=0.01, **LR_params)\n",
    "history_regularized = LR_regularized.fit(X_train, y_train, valid_X=X_test, valid_y=y_test)"
   ]
  },
  {
   "cell_type": "code",
   "execution_count": 12,
   "metadata": {},
   "outputs": [
    {
     "name": "stdout",
     "output_type": "stream",
     "text": [
      "Test accuracy: 0.927\n",
      "Precision: 0.911\n",
      "Recall: 0.903\n",
      "[[657  40]\n",
      " [ 44 410]]\n"
     ]
    }
   ],
   "source": [
    "acc = sklearn.metrics.accuracy_score(LR_regularized.predict(X_test), y_test)\n",
    "pre = sklearn.metrics.precision_score(y_test, LR_regularized.predict(X_test))\n",
    "rec = sklearn.metrics.recall_score(y_test, LR_regularized.predict(X_test))\n",
    "\n",
    "print(\"Test accuracy: {:0.3f}\".format(acc))\n",
    "print(\"Precision: {:0.3f}\".format(pre))\n",
    "print(\"Recall: {:0.3f}\".format(rec))\n",
    "\n",
    "print(sklearn.metrics.confusion_matrix(y_test, LR_regularized.predict(X_test)))"
   ]
  },
  {
   "cell_type": "code",
   "execution_count": 13,
   "metadata": {},
   "outputs": [
    {
     "data": {
      "image/png": "[encoded data removed]",
      "text/plain": [
       "<Figure size 432x288 with 1 Axes>"
      ]
     },
     "metadata": {
      "needs_background": "light"
     },
     "output_type": "display_data"
    }
   ],
   "source": [
    "fpr, tpr, _ = sklearn.metrics.roc_curve(y_test, LR_regularized.predict_proba(X_test))\n",
    "\n",
    "plt.plot(fpr, tpr)\n",
    "plt.xlabel('False positive rate')\n",
    "plt.ylabel('True positive rate')\n",
    "plt.show()"
   ]
  },
  {
   "cell_type": "code",
   "execution_count": 14,
   "metadata": {},
   "outputs": [
    {
     "data": {
      "image/png": "[encoded data removed]",
      "text/plain": [
       "<Figure size 432x288 with 1 Axes>"
      ]
     },
     "metadata": {
      "needs_background": "light"
     },
     "output_type": "display_data"
    }
   ],
   "source": [
    "plt.loglog(history['training_loss'])\n",
    "plt.loglog(history['validation_loss'])\n",
    "plt.loglog(history_regularized['training_loss'])\n",
    "plt.loglog(history_regularized['validation_loss'])\n",
    "\n",
    "plt.xlabel('Epoch')\n",
    "plt.ylabel('Loss')\n",
    "\n",
    "plt.legend(('Training Loss', 'Validation Loss', 'Regularlized Training Loss', 'Regularized Validation Loss'))\n",
    "plt.show()"
   ]
  },
  {
   "cell_type": "code",
   "execution_count": 15,
   "metadata": {},
   "outputs": [
    {
     "data": {
      "image/png": "[encoded data removed]",
      "text/plain": [
       "<Figure size 432x288 with 1 Axes>"
      ]
     },
     "metadata": {
      "needs_background": "light"
     },
     "output_type": "display_data"
    }
   ],
   "source": [
    "plt.loglog(history['training_acc'])\n",
    "plt.loglog(history['validation_acc'])\n",
    "plt.loglog(history_regularized['training_acc'])\n",
    "plt.loglog(history_regularized['validation_acc'])\n",
    "\n",
    "plt.xlabel('Epoch')\n",
    "plt.ylabel('Accuracy')\n",
    "\n",
    "plt.legend(('Training Accuracy', 'Validation Accuracy', 'Regularlized Training Accuracy', 'Regularized Validation Accuracy'))\n",
    "\n",
    "plt.show()"
   ]
  },
  {
   "cell_type": "markdown",
   "metadata": {},
   "source": [
    "Regularization improves our validation accuracy! "
   ]
  },
  {
   "cell_type": "code",
   "execution_count": 16,
   "metadata": {},
   "outputs": [],
   "source": [
    "def splits(nsplits, X, y):\n",
    "    \"\"\"\n",
    "    # TODO add docstring\n",
    "    \"\"\"\n",
    "    X_folds = []\n",
    "    y_folds = []\n",
    "    \n",
    "    X = np.array(X)\n",
    "    y = np.array(y)\n",
    "\n",
    "\n",
    "    shuffled_indices = np.random.permutation(range(len(y)))\n",
    "    split_indices = np.array_split(shuffled_indices, nsplits)\n",
    "    \n",
    "    for fold in split_indices:\n",
    "        X_folds.append(X[fold])\n",
    "        y_folds.append(y[fold])\n",
    "    \n",
    "    return X_folds, y_folds\n",
    "\n",
    "\n",
    "def kfold(Classifier, X, y, n_splits=5, metric=sklearn.metrics.accuracy_score, verbose=False, params={}, **kwargs):\n",
    "    \"\"\"\n",
    "    # TODO add docstring\n",
    "    \"\"\"\n",
    "    scores = []\n",
    "    \n",
    "    X_folds, y_folds = splits(n_splits, X, y)\n",
    "    for i in range(n_splits):\n",
    "        X_train = X_folds\n",
    "        y_train = y_folds\n",
    "                \n",
    "        X_test = X_train.pop(0)\n",
    "        y_test = y_train.pop(0)\n",
    "        \n",
    "        # Not sure why these have inconsistant dimesnions?\n",
    "        X_train = np.vstack(X_train)\n",
    "        y_train = np.hstack(y_train)\n",
    "        \n",
    "        classifier = Classifier(**params)\n",
    "        classifier.fit(X_train, y_train, **kwargs)\n",
    "        \n",
    "        predictions = classifier.predict(X_test)\n",
    "        scores.append(metric(y_test, predictions))\n",
    "        X_folds.append(X_test)\n",
    "        y_folds.append(y_test)\n",
    "    return np.mean(scores), np.std(scores)\n",
    "  \n",
    "    "
   ]
  },
  {
   "cell_type": "code",
   "execution_count": 17,
   "metadata": {
    "scrolled": true
   },
   "outputs": [
    {
     "name": "stdout",
     "output_type": "stream",
     "text": [
      "Iter: 156, Cost: 0.23340 Converged in 157 iterations!\n",
      "Iter: 136, Cost: 0.23131 Converged in 137 iterations!\n",
      "Iter: 150, Cost: 0.22920 Converged in 151 iterations!\n",
      "Iter: 136, Cost: 0.22788 Converged in 137 iterations!\n",
      "Iter: 136, Cost: 0.22918 Converged in 137 iterations!\n",
      "Iter: 140, Cost: 0.23179 Converged in 141 iterations!\n",
      "Iter: 147, Cost: 0.22907 Converged in 148 iterations!\n",
      "Iter: 164, Cost: 0.22908 Converged in 165 iterations!\n",
      "Iter: 131, Cost: 0.22943 Converged in 132 iterations!\n",
      "Iter: 134, Cost: 0.22952 Converged in 135 iterations!\n",
      "Iter: 235, Cost: 0.22180 Converged in 236 iterations!\n",
      "Iter: 131, Cost: 0.22869 Converged in 132 iterations!\n",
      "Iter: 142, Cost: 0.23467 Converged in 143 iterations!\n",
      "Iter: 152, Cost: 0.23097 Converged in 153 iterations!\n",
      "Iter: 145, Cost: 0.23177 Converged in 146 iterations!\n",
      "Iter: 145, Cost: 0.22678 Converged in 146 iterations!\n",
      "Iter: 140, Cost: 0.23254 Converged in 141 iterations!\n",
      "Iter: 125, Cost: 0.22796 Converged in 126 iterations!\n",
      "Iter: 143, Cost: 0.23093 Converged in 144 iterations!\n",
      "Iter: 145, Cost: 0.22678 Converged in 146 iterations!\n",
      "Iter: 125, Cost: 0.22746 Converged in 126 iterations!\n",
      "Iter: 131, Cost: 0.22725 Converged in 132 iterations!\n",
      "Iter: 148, Cost: 0.23242 Converged in 149 iterations!\n",
      "Iter: 162, Cost: 0.23113 Converged in 163 iterations!\n",
      "Iter: 149, Cost: 0.23401 Converged in 150 iterations!\n",
      "Iter: 139, Cost: 0.22851 Converged in 140 iterations!\n",
      "Iter: 136, Cost: 0.22730 Converged in 137 iterations!\n",
      "Iter: 146, Cost: 0.22913 Converged in 147 iterations!\n",
      "Iter: 254, Cost: 0.21695 Converged in 255 iterations!\n",
      "Iter: 133, Cost: 0.23035 Converged in 134 iterations!\n",
      "Iter: 131, Cost: 0.22471 Converged in 132 iterations!\n",
      "Iter: 151, Cost: 0.23209 Converged in 152 iterations!\n",
      "Iter: 145, Cost: 0.22769 Converged in 146 iterations!\n",
      "Iter: 151, Cost: 0.23243 Converged in 152 iterations!\n",
      "Iter: 149, Cost: 0.23197 Converged in 150 iterations!\n",
      "Iter: 144, Cost: 0.23334 Converged in 145 iterations!\n",
      "Iter: 155, Cost: 0.23324 Converged in 156 iterations!\n",
      "Iter: 145, Cost: 0.23115 Converged in 146 iterations!\n",
      "Iter: 131, Cost: 0.23191 Converged in 132 iterations!\n",
      "Iter: 142, Cost: 0.22814 Converged in 143 iterations!\n",
      "Iter: 149, Cost: 0.23192       Converged in 150 iterations!\n",
      "Iter: 156, Cost: 0.23136 Converged in 157 iterations!\n",
      "Iter: 263, Cost: 0.22321             Converged in 264 iterations!\n",
      "Iter: 155, Cost: 0.23024           Converged in 156 iterations!\n",
      "Iter: 136, Cost: 0.22834         Converged in 137 iterations!\n",
      "Iter: 127, Cost: 0.23195 Converged in 128 iterations!\n",
      "Iter: 144, Cost: 0.22902 Converged in 145 iterations!\n",
      "Iter: 143, Cost: 0.22629 Converged in 144 iterations!\n",
      "Iter: 160, Cost: 0.23415 Converged in 161 iterations!\n",
      "Iter: 149, Cost: 0.23210 Converged in 150 iterations!\n",
      "Iter: 136, Cost: 0.22691 Converged in 137 iterations!\n",
      "Iter: 135, Cost: 0.23002 Converged in 136 iterations!\n",
      "Iter: 156, Cost: 0.23222 Converged in 157 iterations!\n",
      "Iter: 151, Cost: 0.23296 Converged in 152 iterations!\n",
      "Iter: 145, Cost: 0.23046 Converged in 146 iterations!\n",
      "Iter: 113, Cost: 0.22358 Converged in 114 iterations!\n",
      "Iter: 138, Cost: 0.22426 Converged in 139 iterations!\n",
      "Iter: 150, Cost: 0.23358 Converged in 151 iterations!\n",
      "Iter: 142, Cost: 0.23301 Converged in 143 iterations!\n",
      "Iter: 131, Cost: 0.22613 Converged in 132 iterations!\n",
      "Iter: 149, Cost: 0.23276 Converged in 150 iterations!\n",
      "Iter: 161, Cost: 0.22865 Converged in 162 iterations!\n",
      "Iter: 216, Cost: 0.22375 Converged in 217 iterations!\n",
      "Iter: 148, Cost: 0.23299 Converged in 149 iterations!\n",
      "Iter: 159, Cost: 0.23294 Converged in 160 iterations!\n",
      "Iter: 143, Cost: 0.22828 Converged in 144 iterations!\n",
      "Iter: 145, Cost: 0.22862 Converged in 146 iterations!\n",
      "Iter: 156, Cost: 0.23160 Converged in 157 iterations!\n",
      "Iter: 142, Cost: 0.23056 Converged in 143 iterations!\n",
      "Iter: 150, Cost: 0.23282 Converged in 151 iterations!\n",
      "Iter: 138, Cost: 0.23044 Converged in 139 iterations!\n",
      "Iter: 130, Cost: 0.22884 Converged in 131 iterations!\n",
      "Iter: 147, Cost: 0.23021 Converged in 148 iterations!\n",
      "Iter: 143, Cost: 0.22455 Converged in 144 iterations!\n",
      "Iter: 133, Cost: 0.22838 Converged in 134 iterations!\n",
      "Iter: 136, Cost: 0.23124 Converged in 137 iterations!\n",
      "Iter: 133, Cost: 0.22610 Converged in 134 iterations!\n",
      "Iter: 138, Cost: 0.23027 Converged in 139 iterations!\n",
      "Iter: 132, Cost: 0.22803 Converged in 133 iterations!\n",
      "Iter: 146, Cost: 0.23202 Converged in 147 iterations!\n",
      "Iter: 133, Cost: 0.22751 Converged in 134 iterations!\n",
      "Iter: 136, Cost: 0.23053 Converged in 137 iterations!\n",
      "Iter: 138, Cost: 0.22938 Converged in 139 iterations!\n",
      "Iter: 130, Cost: 0.22673 Converged in 131 iterations!\n",
      "Iter: 151, Cost: 0.23127 Converged in 152 iterations!\n",
      "Iter: 139, Cost: 0.23150 Converged in 140 iterations!\n",
      "Iter: 134, Cost: 0.23199 Converged in 135 iterations!\n",
      "Iter: 144, Cost: 0.22934 Converged in 145 iterations!\n",
      "Iter: 151, Cost: 0.23261 Converged in 152 iterations!\n",
      "Iter: 260, Cost: 0.22162 Converged in 261 iterations!\n",
      "Iter: 144, Cost: 0.23202 Converged in 145 iterations!\n",
      "Iter: 151, Cost: 0.23222 Converged in 152 iterations!\n",
      "Iter: 135, Cost: 0.22937 Converged in 136 iterations!\n",
      "Iter: 134, Cost: 0.22858 Converged in 135 iterations!\n",
      "Iter: 142, Cost: 0.23056 Converged in 143 iterations!\n",
      "Iter: 144, Cost: 0.23024 Converged in 145 iterations!\n",
      "Iter: 154, Cost: 0.23053    Converged in 155 iterations!\n",
      "Iter: 144, Cost: 0.22967 Converged in 145 iterations!\n",
      "Iter: 149, Cost: 0.22756 Converged in 150 iterations!\n",
      "Iter: 148, Cost: 0.23102 Converged in 149 iterations!\n",
      "Iter: 135, Cost: 0.23208 Converged in 136 iterations!\n",
      "Iter: 153, Cost: 0.23207 Converged in 154 iterations!\n",
      "Iter: 134, Cost: 0.22765 Converged in 135 iterations!\n",
      "Iter: 131, Cost: 0.22768 Converged in 132 iterations!\n",
      "Iter: 144, Cost: 0.23092 Converged in 145 iterations!\n",
      "Iter: 128, Cost: 0.23064 Converged in 129 iterations!\n",
      "Iter: 144, Cost: 0.23357 Converged in 145 iterations!\n",
      "Iter: 150, Cost: 0.23204    Converged in 151 iterations!\n",
      "Iter: 145, Cost: 0.23338 Converged in 146 iterations!\n",
      "Iter: 154, Cost: 0.22958 Converged in 155 iterations!\n",
      "Iter: 158, Cost: 0.22919 Converged in 159 iterations!\n",
      "Iter: 135, Cost: 0.23196 Converged in 136 iterations!\n",
      "Iter: 140, Cost: 0.22824 Converged in 141 iterations!\n",
      "Iter: 143, Cost: 0.22900 Converged in 144 iterations!\n",
      "Iter: 143, Cost: 0.23231 Converged in 144 iterations!\n",
      "Iter: 131, Cost: 0.22312 Converged in 132 iterations!\n",
      "Iter: 144, Cost: 0.23016 Converged in 145 iterations!\n",
      "Iter: 162, Cost: 0.22668 Converged in 163 iterations!\n",
      "Iter: 147, Cost: 0.23123 Converged in 148 iterations!\n",
      "Iter: 267, Cost: 0.22131 Converged in 268 iterations!\n",
      "Iter: 116, Cost: 0.23092 Converged in 117 iterations!\n",
      "Iter: 133, Cost: 0.23129 Converged in 134 iterations!\n",
      "Iter: 137, Cost: 0.22962 Converged in 138 iterations!\n",
      "Iter: 147, Cost: 0.23352 Converged in 148 iterations!\n",
      "Iter: 134, Cost: 0.23166 Converged in 135 iterations!\n",
      "Iter: 129, Cost: 0.22959 Converged in 130 iterations!\n",
      "Iter: 132, Cost: 0.22831 Converged in 133 iterations!\n",
      "Iter: 126, Cost: 0.23020 Converged in 127 iterations!\n",
      "Iter: 137, Cost: 0.23401 Converged in 138 iterations!\n",
      "Iter: 137, Cost: 0.23169 Converged in 138 iterations!\n",
      "Iter: 131, Cost: 0.22728 Converged in 132 iterations!\n",
      "Iter: 149, Cost: 0.22982 Converged in 150 iterations!\n",
      "Iter: 138, Cost: 0.22556 Converged in 139 iterations!\n",
      "Iter: 121, Cost: 0.22642 Converged in 122 iterations!\n",
      "Iter: 124, Cost: 0.23007 Converged in 125 iterations!\n",
      "Iter: 142, Cost: 0.22894 Converged in 143 iterations!\n",
      "Iter: 138, Cost: 0.23393 Converged in 139 iterations!\n",
      "Iter: 141, Cost: 0.22950 Converged in 142 iterations!\n",
      "Iter: 131, Cost: 0.23025 Converged in 132 iterations!\n",
      "Iter: 220, Cost: 0.22284 Converged in 221 iterations!\n",
      "Iter: 26, Cost: 0.24795 Converged in 27 iterations!\n",
      "Iter: 27, Cost: 0.25149 Converged in 28 iterations!\n",
      "Iter: 27, Cost: 0.25096 Converged in 28 iterations!\n",
      "Iter: 26, Cost: 0.24340 Converged in 27 iterations!\n",
      "Iter: 27, Cost: 0.24664 Converged in 28 iterations!\n",
      "Iter: 27, Cost: 0.24807 Converged in 28 iterations!\n",
      "Iter: 26, Cost: 0.24949 Converged in 27 iterations!\n",
      "Iter: 26, Cost: 0.24470 Converged in 27 iterations!\n",
      "Iter: 6, Cost: 0.24349 Converged in 7 iterations!\n",
      "Iter: 27, Cost: 0.25041 Converged in 28 iterations!\n",
      "Iter: 26, Cost: 0.24857 Converged in 27 iterations!\n"
     ]
    },
    {
     "name": "stdout",
     "output_type": "stream",
     "text": [
      "Iter: 27, Cost: 0.24683 Converged in 28 iterations!\n",
      "Iter: 27, Cost: 0.24715 Converged in 28 iterations!\n",
      "Iter: 25, Cost: 0.24559 Converged in 26 iterations!\n",
      "Iter: 26, Cost: 0.25023 Converged in 27 iterations!\n",
      "Iter: 27, Cost: 0.24617 Converged in 28 iterations!\n",
      "Iter: 27, Cost: 0.24540 Converged in 28 iterations!\n",
      "Iter: 27, Cost: 0.24343 Converged in 28 iterations!\n",
      "Iter: 27, Cost: 0.24569 Converged in 28 iterations!\n",
      "Iter: 27, Cost: 0.24778 Converged in 28 iterations!\n"
     ]
    }
   ],
   "source": [
    "# Caution: this cell has a long execution timem\n",
    "\n",
    "scores = []\n",
    "errors = []\n",
    "values = np.logspace(-16, -2, 8)\n",
    "for value in values:\n",
    "    mean, std = kfold(LogisticRegression, X, y, n_splits=20, params={**LR_params, 'ld':value}, verbose=False)\n",
    "    scores.append(mean)\n",
    "    errors.append(errors)"
   ]
  },
  {
   "cell_type": "code",
   "execution_count": 18,
   "metadata": {},
   "outputs": [
    {
     "data": {
      "image/png": "[encoded data removed]",
      "text/plain": [
       "<Figure size 432x288 with 1 Axes>"
      ]
     },
     "metadata": {
      "needs_background": "light"
     },
     "output_type": "display_data"
    }
   ],
   "source": [
    "plt.semilogx(values, scores)\n",
    "plt.xlabel('Regularization coefficient')\n",
    "plt.ylabel('Mean validation accuracy')\n",
    "plt.ylim((0.9, 0.93))\n",
    "plt.show()"
   ]
  },
  {
   "cell_type": "markdown",
   "metadata": {},
   "source": [
    "We repeat the above plots with our optimized parameter value, which, surprisingly, is a minimal value of 1E-8. "
   ]
  },
  {
   "cell_type": "code",
   "execution_count": 22,
   "metadata": {},
   "outputs": [
    {
     "name": "stdout",
     "output_type": "stream",
     "text": [
      "Iter: 144, Cost: 0.22663 Converged in 145 iterations!\n"
     ]
    }
   ],
   "source": [
    "LR_regularized = LogisticRegression(ld=1E-8, **LR_params)\n",
    "history_regularized = LR_regularized.fit(X_train, y_train, valid_X=X_test, valid_y=y_test)"
   ]
  },
  {
   "cell_type": "code",
   "execution_count": 32,
   "metadata": {},
   "outputs": [
    {
     "data": {
      "image/png": "[encoded data removed]",
      "text/plain": [
       "<Figure size 432x288 with 1 Axes>"
      ]
     },
     "metadata": {
      "needs_background": "light"
     },
     "output_type": "display_data"
    }
   ],
   "source": [
    "plt.loglog(history['training_loss'])\n",
    "plt.loglog(history['validation_loss'])\n",
    "plt.loglog(history_regularized['training_loss'])\n",
    "plt.loglog(history_regularized['validation_loss'])\n",
    "\n",
    "plt.xlabel('Epoch')\n",
    "plt.ylabel('Loss')\n",
    "\n",
    "plt.legend(('Training Loss', 'Validation Loss', 'Regularlized Training Loss', 'Regularized Validation Loss'))\n",
    "plt.show()"
   ]
  },
  {
   "cell_type": "code",
   "execution_count": 24,
   "metadata": {},
   "outputs": [
    {
     "data": {
      "image/png": "[encoded data removed]",
      "text/plain": [
       "<Figure size 432x288 with 1 Axes>"
      ]
     },
     "metadata": {
      "needs_background": "light"
     },
     "output_type": "display_data"
    }
   ],
   "source": [
    "plt.loglog(history['training_acc'])\n",
    "plt.loglog(history['validation_acc'])\n",
    "plt.loglog(history_regularized['training_acc'])\n",
    "plt.loglog(history_regularized['validation_acc'])\n",
    "\n",
    "plt.xlabel('Epoch')\n",
    "plt.ylabel('Accuracy')\n",
    "\n",
    "plt.legend(('Training Accuracy', 'Validation Accuracy', 'Regularlized Training Accuracy', 'Regularized Validation Accuracy'))\n",
    "\n",
    "plt.show()"
   ]
  },
  {
   "cell_type": "code",
   "execution_count": null,
   "metadata": {},
   "outputs": [],
   "source": []
  }
 ],
 "metadata": {
  "kernelspec": {
   "display_name": "Python 3",
   "language": "python",
   "name": "python3"
  },
  "language_info": {
   "codemirror_mode": {
    "name": "ipython",
    "version": 3
   },
   "file_extension": ".py",
   "mimetype": "text/x-python",
   "name": "python",
   "nbconvert_exporter": "python",
   "pygments_lexer": "ipython3",
   "version": "3.7.3"
  }
 },
 "nbformat": 4,
 "nbformat_minor": 2
}
