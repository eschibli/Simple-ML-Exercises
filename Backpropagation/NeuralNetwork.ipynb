{
 "cells": [
  {
   "cell_type": "code",
   "execution_count": 1,
   "metadata": {},
   "outputs": [],
   "source": [
    "import pandas as pd\n",
    "import numpy as np\n",
    "import matplotlib.pyplot as plt "
   ]
  },
  {
   "cell_type": "code",
   "execution_count": null,
   "metadata": {},
   "outputs": [],
   "source": []
  },
  {
   "cell_type": "code",
   "execution_count": 2,
   "metadata": {},
   "outputs": [],
   "source": [
    "### TEST DATA\n",
    "\n",
    "X=np.array(([-0.5, -0.5],[0.5, -0.5],[-0.5, 0.5], [0.5,0.5]), dtype=float)\n",
    "y=np.array(([-0.5],[0.5],[0.5],[-0.5]), dtype=float)"
   ]
  },
  {
   "cell_type": "code",
   "execution_count": 3,
   "metadata": {},
   "outputs": [],
   "source": [
    "def dtanh(x):\n",
    "    \"\"\"\n",
    "    Derivative of the tanh function\n",
    "    \"\"\"\n",
    "    return (1 - np.tanh(x)**2)\n",
    "\n",
    "class NeuralNetwork:\n",
    "    # TODO add batch fitting\n",
    "    # TODO consider adding different activation functions\n",
    "    # TODO add momentum \n",
    "    def __init__(self, X=None, y=None, nodes=3, alpha=0.001):\n",
    "        \"\"\"\n",
    "        Constructor\n",
    "        :param nodes: (int) Number of nodes in the hidden layer. Default: 3\n",
    "        :param alpha: (float) Learning rate. Default: 1E-3\n",
    "        \"\"\"\n",
    "        # TODO: impliment multiple layers\n",
    "        self.nodes, self.alpha = nodes, alpha # Hyperparameters\n",
    "        self.weights1, self.bias1, self.weights2, self.bias2 = None, None, None, None # Weights\n",
    "        self.layer1, self.output = None, None # Layer activations\n",
    "        \n",
    "        # Initialize the weights\n",
    "        if X is not None: \n",
    "            try:\n",
    "                self.initialize(X, y)\n",
    "            except: \n",
    "                print('Initialization failed')\n",
    "    def initialize(self, X, y):\n",
    "        \"\"\"\n",
    "        Initialize weights\n",
    "        :param X: Input matrix\n",
    "        :param y: Output vector\n",
    "        \"\"\"\n",
    "        self.weights1   = np.random.rand(self.nodes, X.shape[1]) \n",
    "        self.bias1      = np.random.rand(self.nodes, 1) \n",
    "        self.weights2   = np.random.rand(y.shape[1], self.nodes)\n",
    "        self.bias2      = np.random.rand(y.shape[1], 1) \n",
    "        \n",
    "    def feedforward(self, X):\n",
    "        \"\"\"\n",
    "        Application the activation functions to get the output\n",
    "        \"\"\"\n",
    "        self.layer1 = np.tanh(np.dot(self.weights1, X.T) + self.bias1)\n",
    "        self.output = np.tanh(np.dot(self.weights2, self.layer1) + self.bias2).T\n",
    "        return self.output\n",
    "\n",
    "    def backprop(self, X, y):\n",
    "        \"\"\"\n",
    "        Application of the chain rule to find derivative of the loss function with respect to each weight\n",
    "        \"\"\"\n",
    "        # TODO possibly impliment non-SSE/MSE errors\n",
    "\n",
    "\n",
    "        dCost = 2*(y -self.output)\n",
    "\n",
    "        dCost1 = np.dot(self.weights2.T, dCost.T) *  dtanh(self.output).T\n",
    "        \n",
    "        d_weights1 = np.dot(X.T, (dCost1 * dtanh(self.layer1)).T)\n",
    "        d_weights2 = np.dot(self.layer1, (dCost * dtanh(self.output)))\n",
    "   \n",
    "        # Double-chek this     \n",
    "        d_bias1 = np.dot(dCost, self.weights2).T * dtanh(self.layer1)\n",
    "        d_bias2 = (dCost * dtanh(self.output).T)\n",
    "\n",
    "        \n",
    "        self.weights1 += self.alpha * d_weights1.T\n",
    "        self.weights2 += self.alpha * d_weights2.T\n",
    "\n",
    "        self.bias1 += self.alpha * np.sum(d_bias1, axis=1, keepdims=True)\n",
    "        self.bias2 += self.alpha * np.sum(d_bias2)\n",
    "        \n",
    "    def cost(self):\n",
    "        \"\"\"\n",
    "        Returns the mean-squared-error\n",
    "        \"\"\"\n",
    "        return np.mean((y - self.output)**2)\n",
    "    \n",
    "    def fit(self, X, y, max_iters=100):\n",
    "        \"\"\"\n",
    "        Fit the neural network\n",
    "        :param max_iters: (int) Maximum number of epochs> Default 100\n",
    "        :param batch_size: (int) Batch size. Default None\n",
    "        \"\"\"\n",
    "        \n",
    "        convergence = []\n",
    "        \n",
    "        if self.weights1 is not None:\n",
    "            self.initialize(X, y)\n",
    "        \n",
    "        for i in range(max_iters):\n",
    "            NN.feedforward(X)\n",
    "            NN.backprop(X, y)\n",
    "            convergence.append(NN.cost())\n",
    "            print('Iteration {}'.format(i), end='\\r')\n",
    "            if convergence[-1] < 1e-3:\n",
    "                print()\n",
    "                print(\"Converged in %s steps\" % i)\n",
    "                return convergence\n",
    "            \n",
    "        print()\n",
    "        print(\"Did not reach convergence\")\n",
    "        return convergence\n",
    "\n",
    "\n",
    "            \n",
    "    def predict(self, X):\n",
    "        return self.feedforward(X)\n",
    "        "
   ]
  },
  {
   "cell_type": "code",
   "execution_count": 4,
   "metadata": {},
   "outputs": [
    {
     "name": "stdout",
     "output_type": "stream",
     "text": [
      "Iteration 1086\n",
      "Converged in 1086 steps\n"
     ]
    }
   ],
   "source": [
    "NN = NeuralNetwork(X, y, nodes=3, alpha = 0.01)\n",
    "convergence = NN.fit(X, y, max_iters = 10000)\n"
   ]
  },
  {
   "cell_type": "code",
   "execution_count": 5,
   "metadata": {},
   "outputs": [
    {
     "data": {
      "image/png": "[encoded data removed]",
      "text/plain": [
       "<Figure size 432x288 with 1 Axes>"
      ]
     },
     "metadata": {
      "needs_background": "light"
     },
     "output_type": "display_data"
    }
   ],
   "source": [
    "plt.loglog(convergence)\n",
    "plt.xlabel('Epoch')\n",
    "plt.ylabel('Cost')\n",
    "plt.show()"
   ]
  },
  {
   "cell_type": "markdown",
   "metadata": {},
   "source": [
    "The shape of this loss curve suggests that our learning rate could be increased safely"
   ]
  },
  {
   "cell_type": "code",
   "execution_count": 6,
   "metadata": {},
   "outputs": [
    {
     "data": {
      "image/png": "[encoded data removed]",
      "text/plain": [
       "<Figure size 432x288 with 1 Axes>"
      ]
     },
     "metadata": {
      "needs_background": "light"
     },
     "output_type": "display_data"
    }
   ],
   "source": [
    "plt.plot(y,'X')\n",
    "plt.plot(NN.predict(X),'.')\n",
    "plt.show()"
   ]
  },
  {
   "cell_type": "markdown",
   "metadata": {},
   "source": [
    "We see that, unlike linear methods, our neural network can solve an XOR problem."
   ]
  }
 ],
 "metadata": {
  "kernelspec": {
   "display_name": "Python 3",
   "language": "python",
   "name": "python3"
  },
  "language_info": {
   "codemirror_mode": {
    "name": "ipython",
    "version": 3
   },
   "file_extension": ".py",
   "mimetype": "text/x-python",
   "name": "python",
   "nbconvert_exporter": "python",
   "pygments_lexer": "ipython3",
   "version": "3.7.3"
  }
 },
 "nbformat": 4,
 "nbformat_minor": 2
}
