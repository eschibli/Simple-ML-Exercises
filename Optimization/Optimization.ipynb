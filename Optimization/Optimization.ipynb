{
 "cells": [
  {
   "cell_type": "markdown",
   "metadata": {},
   "source": [
    "### Linear Regression from Scratch\n",
    "\n",
    "Here we will demonstrate a from-scratch implimentation of linear regression"
   ]
  },
  {
   "cell_type": "code",
   "execution_count": 1,
   "metadata": {},
   "outputs": [],
   "source": [
    "# Packages\n",
    "# Numpy for matrix algebra, pandas for data formatting, and pyplot for fitting\n",
    "\n",
    "import numpy as np\n",
    "import pandas as pd\n",
    "import matplotlib.pyplot as plt\n",
    "\n",
    "%matplotlib inline"
   ]
  },
  {
   "cell_type": "code",
   "execution_count": 2,
   "metadata": {},
   "outputs": [],
   "source": [
    "# Hyperparameters\n",
    "learning_rate = 1e-5\n",
    "max_iters = 100000\n",
    "tol = 1"
   ]
  },
  {
   "cell_type": "markdown",
   "metadata": {},
   "source": [
    "The learning rate is the coefficient of the gradient in gradient descent.\n",
    "\n",
    "max_iters is the maximum number of steps in the optimization\n",
    "\n",
    "tol sets the convergence criteria"
   ]
  },
  {
   "cell_type": "code",
   "execution_count": 3,
   "metadata": {},
   "outputs": [],
   "source": [
    "class LinearRegression:\n",
    "    \"\"\"\n",
    "    This class performs OLS linear regression\n",
    "    \"\"\"\n",
    "\n",
    "    def __init__(self):\n",
    "        \"\"\"\n",
    "        Constructor\n",
    "        Sets self.trained to zero\n",
    "        \"\"\"\n",
    "        self.trained = False\n",
    "        self.B = None\n",
    "    \n",
    "    def rss(self, X, y):\n",
    "        \"\"\"\n",
    "        Calculate residual sum of squares as cost function\n",
    "        :param X: (array) Feature matrix\n",
    "        :param y: (vector) targets\n",
    "        \"\"\"\n",
    "        value = (y - (self.B @ X.T))   \n",
    "        value = np.multiply(value, value)\n",
    "        return np.sum(value)\n",
    "\n",
    "    def predict(self, X):\n",
    "        \"\"\"\n",
    "        Estimate values! \n",
    "        :param X: (array) Feature matrix\n",
    "        \"\"\"\n",
    "        try: \n",
    "            y_est = self.B @ X.T\n",
    "            return y_est\n",
    "        except ValueError: print(\"Error - model has not been trained\")\n",
    "\n",
    "    def r_squared(self, X, y):\n",
    "        \"\"\"\n",
    "        Calculates the coefficient of determination\n",
    "        :param X: (array) Feature matrix\n",
    "        :param y: (vector) Targets\n",
    "        :return: (float) coefficient of determination\n",
    "        \"\"\"\n",
    "        return 1 - self.rss(X, y) / np.sum((y - np.mean(y))**2)\n",
    "\n",
    "    def grss(self, X, y):\n",
    "        \"\"\"\n",
    "        Calculate the gradient of the cost function (analytically)\n",
    "        :param X: (array) Feature matrix\n",
    "        :param y: (vector) Targets\n",
    "        \"\"\"\n",
    "        \n",
    "        # d/dB (y-BX)**2 = 2 (y-BX)X\n",
    "        return 2 * X.T @ (y - (self.B @ X.T)).T\n",
    "        \n",
    "    def fit(self, X, y, max_iters=10000, tol=1e-3, learning_rate=1e-5):\n",
    "        \"\"\"\n",
    "        Fits a regression of y onto X\n",
    "        :param X: (array) Feature matrix\n",
    "        :param y: (vector) targets \n",
    "        :param max_iters: (int) Maximum iterations, default 1E5\n",
    "        :param tol: (float) Tolerance for convergence\n",
    "        :param learning_rate: (float) Learning rate, default 1E-5\n",
    "        \"\"\"\n",
    "        \n",
    "        # Initialize coefficients, cost, and iterations \n",
    "        self.B = np.zeros((np.shape(X)[1]))\n",
    "        cost = self.rss(X, y)\n",
    "        convergence = np.zeros(max_iters+1)\n",
    "        convergence[0] = cost\n",
    "        i = 0\n",
    "        \n",
    "        for i in range(max_iters):\n",
    "            previous_cost = cost\n",
    "            dRSS = self.grss(X, y)\n",
    "            self.B = self.B + dRSS / (np.mean(X, axis=0)) * learning_rate\n",
    "            cost = self.rss(X, y)\n",
    "            convergence[i] = cost\n",
    "\n",
    "            print(\"Cost: %.2f\" % cost, end='\\r')\n",
    "\n",
    "            if abs(previous_cost - cost) < tol:\n",
    "                self.trained = True\n",
    "                return self.B,convergence[0:i]\n",
    "\n",
    "            if cost > previous_cost * 200:\n",
    "                print(\"\\n Diverging!\")\n",
    "                return self.B,convergence[0:i]\n",
    "        \n",
    "        # If we reach here, the regression has neither converged nor diverged in the maximum number of iterations\n",
    "        print(\"\\n Max Iters Reached\")\n",
    "        return self.B,convergence[0:i]\n"
   ]
  },
  {
   "cell_type": "markdown",
   "metadata": {},
   "source": [
    "We load the advertising data and have a look..."
   ]
  },
  {
   "cell_type": "code",
   "execution_count": 4,
   "metadata": {},
   "outputs": [
    {
     "data": {
      "text/html": [
       "<div>\n",
       "<style scoped>\n",
       "    .dataframe tbody tr th:only-of-type {\n",
       "        vertical-align: middle;\n",
       "    }\n",
       "\n",
       "    .dataframe tbody tr th {\n",
       "        vertical-align: top;\n",
       "    }\n",
       "\n",
       "    .dataframe thead th {\n",
       "        text-align: right;\n",
       "    }\n",
       "</style>\n",
       "<table border=\"1\" class=\"dataframe\">\n",
       "  <thead>\n",
       "    <tr style=\"text-align: right;\">\n",
       "      <th></th>\n",
       "      <th>Unnamed: 0</th>\n",
       "      <th>TV</th>\n",
       "      <th>Radio</th>\n",
       "      <th>Newspaper</th>\n",
       "      <th>Sales</th>\n",
       "    </tr>\n",
       "  </thead>\n",
       "  <tbody>\n",
       "    <tr>\n",
       "      <td>count</td>\n",
       "      <td>200.000000</td>\n",
       "      <td>200.000000</td>\n",
       "      <td>200.000000</td>\n",
       "      <td>200.000000</td>\n",
       "      <td>200.000000</td>\n",
       "    </tr>\n",
       "    <tr>\n",
       "      <td>mean</td>\n",
       "      <td>100.500000</td>\n",
       "      <td>147.042500</td>\n",
       "      <td>23.264000</td>\n",
       "      <td>30.554000</td>\n",
       "      <td>14.022500</td>\n",
       "    </tr>\n",
       "    <tr>\n",
       "      <td>std</td>\n",
       "      <td>57.879185</td>\n",
       "      <td>85.854236</td>\n",
       "      <td>14.846809</td>\n",
       "      <td>21.778621</td>\n",
       "      <td>5.217457</td>\n",
       "    </tr>\n",
       "    <tr>\n",
       "      <td>min</td>\n",
       "      <td>1.000000</td>\n",
       "      <td>0.700000</td>\n",
       "      <td>0.000000</td>\n",
       "      <td>0.300000</td>\n",
       "      <td>1.600000</td>\n",
       "    </tr>\n",
       "    <tr>\n",
       "      <td>25%</td>\n",
       "      <td>50.750000</td>\n",
       "      <td>74.375000</td>\n",
       "      <td>9.975000</td>\n",
       "      <td>12.750000</td>\n",
       "      <td>10.375000</td>\n",
       "    </tr>\n",
       "    <tr>\n",
       "      <td>50%</td>\n",
       "      <td>100.500000</td>\n",
       "      <td>149.750000</td>\n",
       "      <td>22.900000</td>\n",
       "      <td>25.750000</td>\n",
       "      <td>12.900000</td>\n",
       "    </tr>\n",
       "    <tr>\n",
       "      <td>75%</td>\n",
       "      <td>150.250000</td>\n",
       "      <td>218.825000</td>\n",
       "      <td>36.525000</td>\n",
       "      <td>45.100000</td>\n",
       "      <td>17.400000</td>\n",
       "    </tr>\n",
       "    <tr>\n",
       "      <td>max</td>\n",
       "      <td>200.000000</td>\n",
       "      <td>296.400000</td>\n",
       "      <td>49.600000</td>\n",
       "      <td>114.000000</td>\n",
       "      <td>27.000000</td>\n",
       "    </tr>\n",
       "  </tbody>\n",
       "</table>\n",
       "</div>"
      ],
      "text/plain": [
       "       Unnamed: 0          TV       Radio   Newspaper       Sales\n",
       "count  200.000000  200.000000  200.000000  200.000000  200.000000\n",
       "mean   100.500000  147.042500   23.264000   30.554000   14.022500\n",
       "std     57.879185   85.854236   14.846809   21.778621    5.217457\n",
       "min      1.000000    0.700000    0.000000    0.300000    1.600000\n",
       "25%     50.750000   74.375000    9.975000   12.750000   10.375000\n",
       "50%    100.500000  149.750000   22.900000   25.750000   12.900000\n",
       "75%    150.250000  218.825000   36.525000   45.100000   17.400000\n",
       "max    200.000000  296.400000   49.600000  114.000000   27.000000"
      ]
     },
     "execution_count": 4,
     "metadata": {},
     "output_type": "execute_result"
    }
   ],
   "source": [
    "data = pd.read_csv(\"Advertising.csv\")\n",
    "data.describe()"
   ]
  },
  {
   "cell_type": "markdown",
   "metadata": {},
   "source": [
    "We have three predictors and a target. We make our feature matrix a column of ones (for the intercept term to simplify the matrix algebra) and the 'TV,' 'Radio,' and 'Newspaper' fields, and we make our target vector the 'Sales' field."
   ]
  },
  {
   "cell_type": "code",
   "execution_count": 5,
   "metadata": {},
   "outputs": [],
   "source": [
    "y = data['Sales']\n",
    "X = np.hstack((np.ones((len(y), 1)), data[['TV', 'Radio', 'Newspaper']].values))"
   ]
  },
  {
   "cell_type": "markdown",
   "metadata": {},
   "source": [
    "We initialize our model and fit it"
   ]
  },
  {
   "cell_type": "code",
   "execution_count": 6,
   "metadata": {},
   "outputs": [
    {
     "name": "stdout",
     "output_type": "stream",
     "text": [
      "Cost: 557.686\r"
     ]
    }
   ],
   "source": [
    "LLS = LinearRegression()\n",
    "B, convergence = LLS.fit(X, y, max_iters=max_iters, tol=1E-3, learning_rate=learning_rate)\n",
    "\n"
   ]
  },
  {
   "cell_type": "code",
   "execution_count": 7,
   "metadata": {
    "scrolled": false
   },
   "outputs": [
    {
     "data": {
      "image/png": "[encoded data removed]",
      "text/plain": [
       "<Figure size 432x288 with 1 Axes>"
      ]
     },
     "metadata": {
      "needs_background": "light"
     },
     "output_type": "display_data"
    }
   ],
   "source": [
    "plt.loglog(convergence)\n",
    "plt.xlabel(\"Iterations\")\n",
    "plt.ylabel(\"Cost\")\n",
    "plt.title(\"Convergence\")\n",
    "plt.show()"
   ]
  },
  {
   "cell_type": "code",
   "execution_count": 8,
   "metadata": {},
   "outputs": [
    {
     "data": {
      "image/png": "[encoded data removed]",
      "text/plain": [
       "<Figure size 432x288 with 1 Axes>"
      ]
     },
     "metadata": {
      "needs_background": "light"
     },
     "output_type": "display_data"
    }
   ],
   "source": [
    "plt.plot(y,  LLS.predict(X), '.')\n",
    "plt.plot((0,max(y)), (0, max(y)))\n",
    "plt.xlabel('True Value')\n",
    "plt.ylabel('Estimated Value')\n",
    "plt.xlim((0, max(y)))\n",
    "plt.ylim((0, max(y)))\n",
    "plt.title(\"Estimates as a function of True Values\")\n",
    "plt.show()"
   ]
  },
  {
   "cell_type": "code",
   "execution_count": 9,
   "metadata": {},
   "outputs": [
    {
     "data": {
      "image/png": "[encoded data removed]",
      "text/plain": [
       "<Figure size 432x288 with 1 Axes>"
      ]
     },
     "metadata": {
      "needs_background": "light"
     },
     "output_type": "display_data"
    }
   ],
   "source": [
    "plt.plot((y-LLS.predict(X))**1, '.')\n",
    "plt.plot((0, 200), (0, 0))\n",
    "plt.xlabel('Index')\n",
    "plt.ylabel('Residual')\n",
    "plt.ylim((-10, 10))\n",
    "plt.xlim((0, len(y)))\n",
    "plt.title('Residual Plot')\n",
    "plt.show()"
   ]
  },
  {
   "cell_type": "code",
   "execution_count": 10,
   "metadata": {},
   "outputs": [
    {
     "data": {
      "image/png": "[encoded data removed]",
      "text/plain": [
       "<Figure size 432x288 with 1 Axes>"
      ]
     },
     "metadata": {
      "needs_background": "light"
     },
     "output_type": "display_data"
    }
   ],
   "source": [
    "plt.plot((y-LLS.predict(X))**2, '.')\n",
    "plt.xlabel('Index')\n",
    "plt.ylabel('SSE')\n",
    "plt.ylim((0, 25))\n",
    "plt.title('Sum of Squared Residuals')\n",
    "plt.show()"
   ]
  },
  {
   "cell_type": "markdown",
   "metadata": {},
   "source": [
    "Our model appears to work well! "
   ]
  }
 ],
 "metadata": {
  "kernelspec": {
   "display_name": "Python 3",
   "language": "python",
   "name": "python3"
  },
  "language_info": {
   "codemirror_mode": {
    "name": "ipython",
    "version": 3
   },
   "file_extension": ".py",
   "mimetype": "text/x-python",
   "name": "python",
   "nbconvert_exporter": "python",
   "pygments_lexer": "ipython3",
   "version": "3.7.4"
  }
 },
 "nbformat": 4,
 "nbformat_minor": 1
}
