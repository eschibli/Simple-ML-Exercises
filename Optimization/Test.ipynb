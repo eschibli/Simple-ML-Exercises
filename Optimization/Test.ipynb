{
 "cells": [
  {
   "cell_type": "code",
   "execution_count": 1,
   "metadata": {},
   "outputs": [],
   "source": [
    "import pandas as pd\n",
    "import numpy as np\n",
    "import seaborn as sb\n",
    "import matplotlib.pyplot as plt\n",
    "import timeit\n",
    "\n",
    "# We will use sklearn for linear regression\n",
    "import sklearn\n",
    "from sklearn.linear_model import LinearRegression\n",
    "\n",
    "# This is our beautiful implimentation :D \n",
    "import linear_regression as our_model\n",
    "%matplotlib inline"
   ]
  },
  {
   "cell_type": "code",
   "execution_count": 2,
   "metadata": {},
   "outputs": [],
   "source": [
    "data = pd.read_csv('../data/advertising.csv')\n",
    "tv = np.array(data['TV']).reshape(-1, 1)\n",
    "radio = np.array(data['Radio']).reshape(-1, 1)\n",
    "newspaper = np.array(data['Newspaper']).reshape(-1, 1)\n",
    "sales = data['Sales']\n",
    "\n",
    "y = data['Sales']\n",
    "X = np.hstack((np.ones((len(y), 1)), data[['TV', 'Radio', 'Newspaper']].values))"
   ]
  },
  {
   "cell_type": "code",
   "execution_count": 3,
   "metadata": {},
   "outputs": [],
   "source": [
    "LR_sk = sklearn.linear_model.LinearRegression()\n",
    "LR_ours = our_model.LinearRegression()"
   ]
  },
  {
   "cell_type": "code",
   "execution_count": 4,
   "metadata": {},
   "outputs": [
    {
     "name": "stdout",
     "output_type": "stream",
     "text": [
      "Our time: 4.546\n",
      "scikit-learn's time: 0.018\n"
     ]
    }
   ],
   "source": [
    "start_time = timeit.default_timer()\n",
    "LR_ours.fit(X, y)\n",
    "our_time = timeit.default_timer() - start_time\n",
    "\n",
    "start_time = timeit.default_timer()\n",
    "LR_sk.fit(X, y)\n",
    "sk_time = timeit.default_timer() - start_time\n",
    "\n",
    "\n",
    "print(\"Our time: %.3f\" % our_time)\n",
    "print(\"scikit-learn's time: %.3f\" % sk_time)"
   ]
  },
  {
   "cell_type": "markdown",
   "metadata": {},
   "source": [
    "Our code appears to be much slower. There is no shame in this because scikit-learn is highly optimized, and the intensive components are likely running in compiled fortran or C. \n",
    "\n",
    "I also believe that sklearn's implimentation uses the analytic solution, which is likely cheaper but more memory intensive, so this may not be an apples to apples comparison"
   ]
  },
  {
   "cell_type": "code",
   "execution_count": 5,
   "metadata": {},
   "outputs": [
    {
     "name": "stdout",
     "output_type": "stream",
     "text": [
      "Our R^2: 0.89705\n",
      "scikit-learn's R^2: 0.89721\n"
     ]
    }
   ],
   "source": [
    "our_R2 = LR_ours.r_squared(X, y)\n",
    "sk_R2 = LR_sk.score(X, y)\n",
    "\n",
    "print(\"Our R^2: %.5f\" % our_R2)\n",
    "print(\"scikit-learn's R^2: %.5f\" % sk_R2)"
   ]
  },
  {
   "cell_type": "markdown",
   "metadata": {},
   "source": [
    "It appears that our R2 is very similar. Since sklearn uses the analytic solution, this is also to be expected. "
   ]
  },
  {
   "cell_type": "code",
   "execution_count": 6,
   "metadata": {},
   "outputs": [
    {
     "data": {
      "image/png": "[encoded data removed]",
      "text/plain": [
       "<Figure size 432x288 with 1 Axes>"
      ]
     },
     "metadata": {
      "needs_background": "light"
     },
     "output_type": "display_data"
    }
   ],
   "source": [
    "plt.plot(y-LR_sk.predict(X), '.')\n",
    "plt.plot(y-LR_ours.predict(X), '.')\n",
    "plt.plot((0,len(y)), (0, 0))\n",
    "plt.xlabel('Index')\n",
    "plt.ylabel('Residual')\n",
    "plt.xlim((0, len(y)))\n",
    "plt.ylim((-10, 10))\n",
    "plt.legend(('Our Model', 'scikit-learn'))\n",
    "plt.title('Residuals')\n",
    "plt.show()"
   ]
  },
  {
   "cell_type": "markdown",
   "metadata": {},
   "source": [
    "Clearly, our solutions are very similar! "
   ]
  },
  {
   "cell_type": "code",
   "execution_count": null,
   "metadata": {},
   "outputs": [],
   "source": []
  }
 ],
 "metadata": {
  "kernelspec": {
   "display_name": "Python 3",
   "language": "python",
   "name": "python3"
  },
  "language_info": {
   "codemirror_mode": {
    "name": "ipython",
    "version": 3
   },
   "file_extension": ".py",
   "mimetype": "text/x-python",
   "name": "python",
   "nbconvert_exporter": "python",
   "pygments_lexer": "ipython3",
   "version": "3.7.3"
  }
 },
 "nbformat": 4,
 "nbformat_minor": 2
}
