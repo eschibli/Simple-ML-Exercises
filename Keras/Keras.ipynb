{
 "cells": [
  {
   "cell_type": "code",
   "execution_count": 1,
   "metadata": {},
   "outputs": [],
   "source": [
    "import pandas as pd\n",
    "import numpy as np\n",
    "from matplotlib import pyplot as plt\n",
    "import tensorflow as tf\n",
    "\n",
    "from tensorflow.keras.backend import clear_session\n",
    "from sklearn.model_selection import train_test_split\n",
    "from sklearn.metrics import matthews_corrcoef, f1_score, accuracy_score"
   ]
  },
  {
   "cell_type": "code",
   "execution_count": 2,
   "metadata": {},
   "outputs": [],
   "source": [
    "clear_session()"
   ]
  },
  {
   "cell_type": "code",
   "execution_count": 3,
   "metadata": {},
   "outputs": [
    {
     "data": {
      "text/html": [
       "<div>\n",
       "<style scoped>\n",
       "    .dataframe tbody tr th:only-of-type {\n",
       "        vertical-align: middle;\n",
       "    }\n",
       "\n",
       "    .dataframe tbody tr th {\n",
       "        vertical-align: top;\n",
       "    }\n",
       "\n",
       "    .dataframe thead th {\n",
       "        text-align: right;\n",
       "    }\n",
       "</style>\n",
       "<table border=\"1\" class=\"dataframe\">\n",
       "  <thead>\n",
       "    <tr style=\"text-align: right;\">\n",
       "      <th></th>\n",
       "      <th>variance</th>\n",
       "      <th>skew</th>\n",
       "      <th>curtosis</th>\n",
       "      <th>entropy</th>\n",
       "    </tr>\n",
       "  </thead>\n",
       "  <tbody>\n",
       "    <tr>\n",
       "      <td>0</td>\n",
       "      <td>3.62160</td>\n",
       "      <td>8.6661</td>\n",
       "      <td>-2.8073</td>\n",
       "      <td>-0.44699</td>\n",
       "    </tr>\n",
       "    <tr>\n",
       "      <td>1</td>\n",
       "      <td>4.54590</td>\n",
       "      <td>8.1674</td>\n",
       "      <td>-2.4586</td>\n",
       "      <td>-1.46210</td>\n",
       "    </tr>\n",
       "    <tr>\n",
       "      <td>2</td>\n",
       "      <td>3.86600</td>\n",
       "      <td>-2.6383</td>\n",
       "      <td>1.9242</td>\n",
       "      <td>0.10645</td>\n",
       "    </tr>\n",
       "    <tr>\n",
       "      <td>3</td>\n",
       "      <td>3.45660</td>\n",
       "      <td>9.5228</td>\n",
       "      <td>-4.0112</td>\n",
       "      <td>-3.59440</td>\n",
       "    </tr>\n",
       "    <tr>\n",
       "      <td>4</td>\n",
       "      <td>0.32924</td>\n",
       "      <td>-4.4552</td>\n",
       "      <td>4.5718</td>\n",
       "      <td>-0.98880</td>\n",
       "    </tr>\n",
       "  </tbody>\n",
       "</table>\n",
       "</div>"
      ],
      "text/plain": [
       "   variance    skew  curtosis  entropy\n",
       "0   3.62160  8.6661   -2.8073 -0.44699\n",
       "1   4.54590  8.1674   -2.4586 -1.46210\n",
       "2   3.86600 -2.6383    1.9242  0.10645\n",
       "3   3.45660  9.5228   -4.0112 -3.59440\n",
       "4   0.32924 -4.4552    4.5718 -0.98880"
      ]
     },
     "execution_count": 3,
     "metadata": {},
     "output_type": "execute_result"
    }
   ],
   "source": [
    "data = pd.read_csv('../data/data_banknote_authentication.txt', names=['variance', 'skew', 'curtosis', 'entropy', 'class'])\n",
    "labels = data.pop('class')\n",
    "\n",
    "data.head()\n"
   ]
  },
  {
   "cell_type": "markdown",
   "metadata": {},
   "source": [
    "We are looking at bank note authentication data. "
   ]
  },
  {
   "cell_type": "code",
   "execution_count": 4,
   "metadata": {},
   "outputs": [],
   "source": [
    "X = np.array(data)\n",
    "y = np.array(labels)"
   ]
  },
  {
   "cell_type": "code",
   "execution_count": 5,
   "metadata": {},
   "outputs": [
    {
     "data": {
      "text/plain": [
       "(array([0, 1], dtype=int64), array([762, 610], dtype=int64))"
      ]
     },
     "execution_count": 5,
     "metadata": {},
     "output_type": "execute_result"
    }
   ],
   "source": [
    "np.unique(y, return_counts=True)"
   ]
  },
  {
   "cell_type": "markdown",
   "metadata": {},
   "source": [
    "Our class balance is pretty good.\n",
    "\n",
    "We build a densely-connected neural network with tensorflow.keras:"
   ]
  },
  {
   "cell_type": "code",
   "execution_count": 6,
   "metadata": {},
   "outputs": [],
   "source": [
    "trainX, testX, trainY, testY = train_test_split(X, y)"
   ]
  },
  {
   "cell_type": "code",
   "execution_count": 7,
   "metadata": {},
   "outputs": [],
   "source": [
    "model_sequential = tf.keras.Sequential()"
   ]
  },
  {
   "cell_type": "code",
   "execution_count": 8,
   "metadata": {},
   "outputs": [],
   "source": [
    "model_sequential.add(tf.keras.layers.Input((4,)))\n",
    "model_sequential.add(tf.keras.layers.Dense(10, activation='relu'))\n",
    "model_sequential.add(tf.keras.layers.Dense(10, activation='relu'))\n",
    "model_sequential.add(tf.keras.layers.Dropout(0.25))\n",
    "model_sequential.add(tf.keras.layers.Dense(1, activation='sigmoid'))\n",
    "model_sequential.compile(optimizer='adagrad', loss='binary_crossentropy', metrics=['acc'])"
   ]
  },
  {
   "cell_type": "code",
   "execution_count": 9,
   "metadata": {},
   "outputs": [],
   "source": [
    "# Here we create a \"callback\" to observe validation performance.\n",
    "# The network will stop fitting and keep the best model once the validation accuracy stops improving\n",
    "es = [tf.keras.callbacks.EarlyStopping(monitor='val_acc', mode='max', verbose=1, patience=200)]"
   ]
  },
  {
   "cell_type": "code",
   "execution_count": 10,
   "metadata": {
    "scrolled": true
   },
   "outputs": [
    {
     "name": "stdout",
     "output_type": "stream",
     "text": [
      "Epoch 00946: early stopping\n"
     ]
    }
   ],
   "source": [
    "history = model_sequential.fit(np.array(trainX), np.array(trainY), validation_split=0.2, callbacks=es, epochs=5000, verbose=0, batch_size=64)"
   ]
  },
  {
   "cell_type": "code",
   "execution_count": 11,
   "metadata": {},
   "outputs": [
    {
     "data": {
      "image/png": "[encoded data removed]",
      "text/plain": [
       "<Figure size 432x288 with 1 Axes>"
      ]
     },
     "metadata": {
      "needs_background": "light"
     },
     "output_type": "display_data"
    }
   ],
   "source": [
    "plt.loglog(history.history['loss'])\n",
    "plt.loglog(history.history['val_loss'])\n",
    "plt.xlabel('Epoch')\n",
    "plt.ylabel('Accuracy Score')\n",
    "plt.legend(('Train', 'Validation'))\n",
    "plt.show()"
   ]
  },
  {
   "cell_type": "code",
   "execution_count": 12,
   "metadata": {},
   "outputs": [
    {
     "data": {
      "image/png": "[encoded data removed]",
      "text/plain": [
       "<Figure size 432x288 with 1 Axes>"
      ]
     },
     "metadata": {
      "needs_background": "light"
     },
     "output_type": "display_data"
    }
   ],
   "source": [
    "plt.plot(history.history['acc'])\n",
    "plt.plot(history.history['val_acc'])\n",
    "plt.xlabel('Epoch')\n",
    "plt.ylabel('Accuracy Score')\n",
    "plt.legend(('Train', 'Validation'))\n",
    "plt.show()"
   ]
  },
  {
   "cell_type": "code",
   "execution_count": 13,
   "metadata": {},
   "outputs": [],
   "source": [
    "train_predictions = np.round(model_sequential.predict(trainX))\n",
    "test_predictions = np.round(model_sequential.predict(testX))"
   ]
  },
  {
   "cell_type": "code",
   "execution_count": 14,
   "metadata": {},
   "outputs": [
    {
     "name": "stdout",
     "output_type": "stream",
     "text": [
      "Train accuracy: 0.988\n",
      "Test accuracy: 0.983\n",
      "Train F1 score: 0.987\n",
      "Test F1 score: 0.980\n",
      "Train MCC: 0.976\n",
      "Test MCC: 0.965\n"
     ]
    }
   ],
   "source": [
    "print('Train accuracy: {0:.3f}'.format(accuracy_score(trainY, train_predictions)))\n",
    "print('Test accuracy: {0:.3f}'.format(accuracy_score(testY, test_predictions)))\n",
    "\n",
    "print('Train F1 score: {0:.3f}'.format(f1_score(trainY, train_predictions)))\n",
    "print('Test F1 score: {0:.3f}'.format(f1_score(testY, test_predictions)))\n",
    "\n",
    "print('Train MCC: {0:.3f}'.format(matthews_corrcoef(trainY, train_predictions)))\n",
    "print('Test MCC: {0:.3f}'.format(matthews_corrcoef(testY, test_predictions)))"
   ]
  },
  {
   "cell_type": "markdown",
   "metadata": {},
   "source": [
    "Excellent performance! \n",
    "\n",
    "Next, we'll make a residual network using Keras' functional API, connecting the both the first and second layer to the output: "
   ]
  },
  {
   "cell_type": "code",
   "execution_count": 15,
   "metadata": {},
   "outputs": [
    {
     "name": "stdout",
     "output_type": "stream",
     "text": [
      "Model: \"model\"\n",
      "__________________________________________________________________________________________________\n",
      "Layer (type)                    Output Shape         Param #     Connected to                     \n",
      "==================================================================================================\n",
      "input_2 (InputLayer)            [(None, 4)]          0                                            \n",
      "__________________________________________________________________________________________________\n",
      "dense_3 (Dense)                 (None, 10)           50          input_2[0][0]                    \n",
      "__________________________________________________________________________________________________\n",
      "dense_4 (Dense)                 (None, 10)           110         dense_3[0][0]                    \n",
      "__________________________________________________________________________________________________\n",
      "concatenate (Concatenate)       (None, 20)           0           dense_3[0][0]                    \n",
      "                                                                 dense_4[0][0]                    \n",
      "__________________________________________________________________________________________________\n",
      "dense_5 (Dense)                 (None, 1)            21          concatenate[0][0]                \n",
      "==================================================================================================\n",
      "Total params: 181\n",
      "Trainable params: 181\n",
      "Non-trainable params: 0\n",
      "__________________________________________________________________________________________________\n"
     ]
    }
   ],
   "source": [
    "inputs = tf.keras.layers.Input(shape=(4,))\n",
    "\n",
    "output_1 = tf.keras.layers.Dense(10, activation='relu')(inputs)\n",
    "output_2 = tf.keras.layers.Dense(10, activation='relu')(output_1)\n",
    "\n",
    "# This layer simply merges the outputs of output_1 and output_2\n",
    "output_3 = tf.keras.layers.concatenate([output_1, output_2])\n",
    "predictions = tf.keras.layers.Dense(1, activation='sigmoid')(output_3)\n",
    "\n",
    "model_functional = tf.keras.Model(inputs=inputs, outputs=predictions)\n",
    "model_functional.compile(optimizer='adagrad', loss='binary_crossentropy', metrics=['acc'])\n",
    "\n",
    "model_functional.summary()"
   ]
  },
  {
   "cell_type": "code",
   "execution_count": 16,
   "metadata": {},
   "outputs": [
    {
     "name": "stdout",
     "output_type": "stream",
     "text": [
      "Epoch 00666: early stopping\n"
     ]
    }
   ],
   "source": [
    "history = model_functional.fit(np.array(trainX), np.array(trainY), validation_split=0.2, callbacks=es, epochs=5000, verbose=0, batch_size=64)"
   ]
  },
  {
   "cell_type": "markdown",
   "metadata": {},
   "source": [
    "The model fit much more quickly."
   ]
  },
  {
   "cell_type": "code",
   "execution_count": 17,
   "metadata": {},
   "outputs": [],
   "source": [
    "train_predictions = np.round(model_sequential.predict(trainX))\n",
    "test_predictions = np.round(model_sequential.predict(testX))"
   ]
  },
  {
   "cell_type": "code",
   "execution_count": 18,
   "metadata": {},
   "outputs": [
    {
     "data": {
      "image/png": "[encoded data removed]",
      "text/plain": [
       "<Figure size 432x288 with 1 Axes>"
      ]
     },
     "metadata": {
      "needs_background": "light"
     },
     "output_type": "display_data"
    }
   ],
   "source": [
    "plt.loglog(history.history['loss'])\n",
    "plt.loglog(history.history['val_loss'])\n",
    "plt.xlabel('Epoch')\n",
    "plt.ylabel('Accuracy Score')\n",
    "plt.legend(('Train', 'Validation'))\n",
    "plt.show()"
   ]
  },
  {
   "cell_type": "markdown",
   "metadata": {},
   "source": [
    "Much smoother convergence now"
   ]
  },
  {
   "cell_type": "code",
   "execution_count": 19,
   "metadata": {},
   "outputs": [
    {
     "data": {
      "image/png": "[encoded data removed]",
      "text/plain": [
       "<Figure size 432x288 with 1 Axes>"
      ]
     },
     "metadata": {
      "needs_background": "light"
     },
     "output_type": "display_data"
    }
   ],
   "source": [
    "plt.plot(history.history['acc'])\n",
    "plt.plot(history.history['val_acc'])\n",
    "plt.xlabel('Epoch')\n",
    "plt.ylabel('Accuracy Score')\n",
    "plt.legend(('Train', 'Validation'))\n",
    "plt.show()"
   ]
  },
  {
   "cell_type": "code",
   "execution_count": 20,
   "metadata": {},
   "outputs": [
    {
     "name": "stdout",
     "output_type": "stream",
     "text": [
      "Train accuracy: 0.988\n",
      "Test accuracy: 0.983\n",
      "Train F1 score: 0.987\n",
      "Test F1 score: 0.980\n",
      "Train MCC: 0.976\n",
      "Test MCC: 0.965\n"
     ]
    }
   ],
   "source": [
    "print('Train accuracy: {0:.3f}'.format(accuracy_score(trainY, train_predictions)))\n",
    "print('Test accuracy: {0:.3f}'.format(accuracy_score(testY, test_predictions)))\n",
    "\n",
    "print('Train F1 score: {0:.3f}'.format(f1_score(trainY, train_predictions)))\n",
    "print('Test F1 score: {0:.3f}'.format(f1_score(testY, test_predictions)))\n",
    "\n",
    "print('Train MCC: {0:.3f}'.format(matthews_corrcoef(trainY, train_predictions)))\n",
    "print('Test MCC: {0:.3f}'.format(matthews_corrcoef(testY, test_predictions)))"
   ]
  },
  {
   "cell_type": "markdown",
   "metadata": {},
   "source": [
    "We still see excellent performance! "
   ]
  },
  {
   "cell_type": "code",
   "execution_count": null,
   "metadata": {},
   "outputs": [],
   "source": []
  }
 ],
 "metadata": {
  "kernelspec": {
   "display_name": "Python 3",
   "language": "python",
   "name": "python3"
  },
  "language_info": {
   "codemirror_mode": {
    "name": "ipython",
    "version": 3
   },
   "file_extension": ".py",
   "mimetype": "text/x-python",
   "name": "python",
   "nbconvert_exporter": "python",
   "pygments_lexer": "ipython3",
   "version": "3.7.4"
  }
 },
 "nbformat": 4,
 "nbformat_minor": 2
}
